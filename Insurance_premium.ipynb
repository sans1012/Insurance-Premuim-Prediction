{
  "cells": [
    {
      "cell_type": "markdown",
      "metadata": {
        "id": "view-in-github",
        "colab_type": "text"
      },
      "source": [
        "<a href=\"https://colab.research.google.com/github/sans1012/Insurance-Premuim-Prediction/blob/main/Insurance_premium.ipynb\" target=\"_parent\"><img src=\"https://colab.research.google.com/assets/colab-badge.svg\" alt=\"Open In Colab\"/></a>"
      ]
    },
    {
      "cell_type": "code",
      "execution_count": 1,
      "id": "431d5b3b",
      "metadata": {
        "id": "431d5b3b"
      },
      "outputs": [],
      "source": [
        "import matplotlib.pyplot as plt\n",
        "import pandas as pd\n",
        "import numpy as np\n",
        "import plotly.express as px\n",
        "import seaborn as sns\n",
        "from sklearn.preprocessing import LabelEncoder, StandardScaler,PolynomialFeatures\n",
        "from sklearn.model_selection import train_test_split\n",
        "import warnings\n",
        "warnings.filterwarnings(action='ignore')"
      ]
    },
    {
      "cell_type": "code",
      "execution_count": 2,
      "id": "81a02de0",
      "metadata": {
        "id": "81a02de0"
      },
      "outputs": [],
      "source": [
        "df=pd.read_csv(\"https://raw.githubusercontent.com/YBI-Foundation/Dataset/main/Insurance%20Premium.csv\", index_col=['ID'])"
      ]
    },
    {
      "cell_type": "code",
      "execution_count": 3,
      "id": "93afd172",
      "metadata": {
        "colab": {
          "base_uri": "https://localhost:8080/",
          "height": 238
        },
        "id": "93afd172",
        "outputId": "3960d97e-599f-457b-ea79-228bfb50dc8f"
      },
      "outputs": [
        {
          "output_type": "execute_result",
          "data": {
            "text/html": [
              "\n",
              "  <div id=\"df-9a6b8ea5-e5d8-4bdf-9ed6-3d2f3c89bf0b\">\n",
              "    <div class=\"colab-df-container\">\n",
              "      <div>\n",
              "<style scoped>\n",
              "    .dataframe tbody tr th:only-of-type {\n",
              "        vertical-align: middle;\n",
              "    }\n",
              "\n",
              "    .dataframe tbody tr th {\n",
              "        vertical-align: top;\n",
              "    }\n",
              "\n",
              "    .dataframe thead th {\n",
              "        text-align: right;\n",
              "    }\n",
              "</style>\n",
              "<table border=\"1\" class=\"dataframe\">\n",
              "  <thead>\n",
              "    <tr style=\"text-align: right;\">\n",
              "      <th></th>\n",
              "      <th>Age</th>\n",
              "      <th>Gender</th>\n",
              "      <th>BMI</th>\n",
              "      <th>Children</th>\n",
              "      <th>Smoker</th>\n",
              "      <th>Region</th>\n",
              "      <th>Premium</th>\n",
              "    </tr>\n",
              "    <tr>\n",
              "      <th>ID</th>\n",
              "      <th></th>\n",
              "      <th></th>\n",
              "      <th></th>\n",
              "      <th></th>\n",
              "      <th></th>\n",
              "      <th></th>\n",
              "      <th></th>\n",
              "    </tr>\n",
              "  </thead>\n",
              "  <tbody>\n",
              "    <tr>\n",
              "      <th>1</th>\n",
              "      <td>19</td>\n",
              "      <td>female</td>\n",
              "      <td>27.900</td>\n",
              "      <td>0</td>\n",
              "      <td>yes</td>\n",
              "      <td>south</td>\n",
              "      <td>16885</td>\n",
              "    </tr>\n",
              "    <tr>\n",
              "      <th>2</th>\n",
              "      <td>18</td>\n",
              "      <td>male</td>\n",
              "      <td>33.770</td>\n",
              "      <td>1</td>\n",
              "      <td>no</td>\n",
              "      <td>east</td>\n",
              "      <td>1726</td>\n",
              "    </tr>\n",
              "    <tr>\n",
              "      <th>3</th>\n",
              "      <td>28</td>\n",
              "      <td>male</td>\n",
              "      <td>33.000</td>\n",
              "      <td>3</td>\n",
              "      <td>no</td>\n",
              "      <td>east</td>\n",
              "      <td>4449</td>\n",
              "    </tr>\n",
              "    <tr>\n",
              "      <th>4</th>\n",
              "      <td>33</td>\n",
              "      <td>male</td>\n",
              "      <td>22.705</td>\n",
              "      <td>0</td>\n",
              "      <td>no</td>\n",
              "      <td>west</td>\n",
              "      <td>21984</td>\n",
              "    </tr>\n",
              "    <tr>\n",
              "      <th>5</th>\n",
              "      <td>32</td>\n",
              "      <td>male</td>\n",
              "      <td>28.880</td>\n",
              "      <td>0</td>\n",
              "      <td>no</td>\n",
              "      <td>west</td>\n",
              "      <td>3867</td>\n",
              "    </tr>\n",
              "  </tbody>\n",
              "</table>\n",
              "</div>\n",
              "      <button class=\"colab-df-convert\" onclick=\"convertToInteractive('df-9a6b8ea5-e5d8-4bdf-9ed6-3d2f3c89bf0b')\"\n",
              "              title=\"Convert this dataframe to an interactive table.\"\n",
              "              style=\"display:none;\">\n",
              "        \n",
              "  <svg xmlns=\"http://www.w3.org/2000/svg\" height=\"24px\"viewBox=\"0 0 24 24\"\n",
              "       width=\"24px\">\n",
              "    <path d=\"M0 0h24v24H0V0z\" fill=\"none\"/>\n",
              "    <path d=\"M18.56 5.44l.94 2.06.94-2.06 2.06-.94-2.06-.94-.94-2.06-.94 2.06-2.06.94zm-11 1L8.5 8.5l.94-2.06 2.06-.94-2.06-.94L8.5 2.5l-.94 2.06-2.06.94zm10 10l.94 2.06.94-2.06 2.06-.94-2.06-.94-.94-2.06-.94 2.06-2.06.94z\"/><path d=\"M17.41 7.96l-1.37-1.37c-.4-.4-.92-.59-1.43-.59-.52 0-1.04.2-1.43.59L10.3 9.45l-7.72 7.72c-.78.78-.78 2.05 0 2.83L4 21.41c.39.39.9.59 1.41.59.51 0 1.02-.2 1.41-.59l7.78-7.78 2.81-2.81c.8-.78.8-2.07 0-2.86zM5.41 20L4 18.59l7.72-7.72 1.47 1.35L5.41 20z\"/>\n",
              "  </svg>\n",
              "      </button>\n",
              "      \n",
              "  <style>\n",
              "    .colab-df-container {\n",
              "      display:flex;\n",
              "      flex-wrap:wrap;\n",
              "      gap: 12px;\n",
              "    }\n",
              "\n",
              "    .colab-df-convert {\n",
              "      background-color: #E8F0FE;\n",
              "      border: none;\n",
              "      border-radius: 50%;\n",
              "      cursor: pointer;\n",
              "      display: none;\n",
              "      fill: #1967D2;\n",
              "      height: 32px;\n",
              "      padding: 0 0 0 0;\n",
              "      width: 32px;\n",
              "    }\n",
              "\n",
              "    .colab-df-convert:hover {\n",
              "      background-color: #E2EBFA;\n",
              "      box-shadow: 0px 1px 2px rgba(60, 64, 67, 0.3), 0px 1px 3px 1px rgba(60, 64, 67, 0.15);\n",
              "      fill: #174EA6;\n",
              "    }\n",
              "\n",
              "    [theme=dark] .colab-df-convert {\n",
              "      background-color: #3B4455;\n",
              "      fill: #D2E3FC;\n",
              "    }\n",
              "\n",
              "    [theme=dark] .colab-df-convert:hover {\n",
              "      background-color: #434B5C;\n",
              "      box-shadow: 0px 1px 3px 1px rgba(0, 0, 0, 0.15);\n",
              "      filter: drop-shadow(0px 1px 2px rgba(0, 0, 0, 0.3));\n",
              "      fill: #FFFFFF;\n",
              "    }\n",
              "  </style>\n",
              "\n",
              "      <script>\n",
              "        const buttonEl =\n",
              "          document.querySelector('#df-9a6b8ea5-e5d8-4bdf-9ed6-3d2f3c89bf0b button.colab-df-convert');\n",
              "        buttonEl.style.display =\n",
              "          google.colab.kernel.accessAllowed ? 'block' : 'none';\n",
              "\n",
              "        async function convertToInteractive(key) {\n",
              "          const element = document.querySelector('#df-9a6b8ea5-e5d8-4bdf-9ed6-3d2f3c89bf0b');\n",
              "          const dataTable =\n",
              "            await google.colab.kernel.invokeFunction('convertToInteractive',\n",
              "                                                     [key], {});\n",
              "          if (!dataTable) return;\n",
              "\n",
              "          const docLinkHtml = 'Like what you see? Visit the ' +\n",
              "            '<a target=\"_blank\" href=https://colab.research.google.com/notebooks/data_table.ipynb>data table notebook</a>'\n",
              "            + ' to learn more about interactive tables.';\n",
              "          element.innerHTML = '';\n",
              "          dataTable['output_type'] = 'display_data';\n",
              "          await google.colab.output.renderOutput(dataTable, element);\n",
              "          const docLink = document.createElement('div');\n",
              "          docLink.innerHTML = docLinkHtml;\n",
              "          element.appendChild(docLink);\n",
              "        }\n",
              "      </script>\n",
              "    </div>\n",
              "  </div>\n",
              "  "
            ],
            "text/plain": [
              "    Age  Gender     BMI  Children Smoker Region  Premium\n",
              "ID                                                      \n",
              "1    19  female  27.900         0    yes  south    16885\n",
              "2    18    male  33.770         1     no   east     1726\n",
              "3    28    male  33.000         3     no   east     4449\n",
              "4    33    male  22.705         0     no   west    21984\n",
              "5    32    male  28.880         0     no   west     3867"
            ]
          },
          "metadata": {},
          "execution_count": 3
        }
      ],
      "source": [
        "df.head()"
      ]
    },
    {
      "cell_type": "code",
      "execution_count": 4,
      "id": "0d0b377d",
      "metadata": {
        "colab": {
          "base_uri": "https://localhost:8080/",
          "height": 300
        },
        "id": "0d0b377d",
        "outputId": "56c89fc9-c475-4345-c544-144586ae8317"
      },
      "outputs": [
        {
          "output_type": "execute_result",
          "data": {
            "text/html": [
              "\n",
              "  <div id=\"df-11d196d2-7ba9-48f7-afbf-90882ffd5b9b\">\n",
              "    <div class=\"colab-df-container\">\n",
              "      <div>\n",
              "<style scoped>\n",
              "    .dataframe tbody tr th:only-of-type {\n",
              "        vertical-align: middle;\n",
              "    }\n",
              "\n",
              "    .dataframe tbody tr th {\n",
              "        vertical-align: top;\n",
              "    }\n",
              "\n",
              "    .dataframe thead th {\n",
              "        text-align: right;\n",
              "    }\n",
              "</style>\n",
              "<table border=\"1\" class=\"dataframe\">\n",
              "  <thead>\n",
              "    <tr style=\"text-align: right;\">\n",
              "      <th></th>\n",
              "      <th>Age</th>\n",
              "      <th>BMI</th>\n",
              "      <th>Children</th>\n",
              "      <th>Premium</th>\n",
              "    </tr>\n",
              "  </thead>\n",
              "  <tbody>\n",
              "    <tr>\n",
              "      <th>count</th>\n",
              "      <td>1338.000000</td>\n",
              "      <td>1338.000000</td>\n",
              "      <td>1338.000000</td>\n",
              "      <td>1338.000000</td>\n",
              "    </tr>\n",
              "    <tr>\n",
              "      <th>mean</th>\n",
              "      <td>39.207025</td>\n",
              "      <td>30.663397</td>\n",
              "      <td>1.094918</td>\n",
              "      <td>13270.414798</td>\n",
              "    </tr>\n",
              "    <tr>\n",
              "      <th>std</th>\n",
              "      <td>14.049960</td>\n",
              "      <td>6.098187</td>\n",
              "      <td>1.205493</td>\n",
              "      <td>12110.012882</td>\n",
              "    </tr>\n",
              "    <tr>\n",
              "      <th>min</th>\n",
              "      <td>18.000000</td>\n",
              "      <td>15.960000</td>\n",
              "      <td>0.000000</td>\n",
              "      <td>1122.000000</td>\n",
              "    </tr>\n",
              "    <tr>\n",
              "      <th>25%</th>\n",
              "      <td>27.000000</td>\n",
              "      <td>26.296250</td>\n",
              "      <td>0.000000</td>\n",
              "      <td>4740.000000</td>\n",
              "    </tr>\n",
              "    <tr>\n",
              "      <th>50%</th>\n",
              "      <td>39.000000</td>\n",
              "      <td>30.400000</td>\n",
              "      <td>1.000000</td>\n",
              "      <td>9382.000000</td>\n",
              "    </tr>\n",
              "    <tr>\n",
              "      <th>75%</th>\n",
              "      <td>51.000000</td>\n",
              "      <td>34.693750</td>\n",
              "      <td>2.000000</td>\n",
              "      <td>16640.000000</td>\n",
              "    </tr>\n",
              "    <tr>\n",
              "      <th>max</th>\n",
              "      <td>64.000000</td>\n",
              "      <td>53.130000</td>\n",
              "      <td>5.000000</td>\n",
              "      <td>63770.000000</td>\n",
              "    </tr>\n",
              "  </tbody>\n",
              "</table>\n",
              "</div>\n",
              "      <button class=\"colab-df-convert\" onclick=\"convertToInteractive('df-11d196d2-7ba9-48f7-afbf-90882ffd5b9b')\"\n",
              "              title=\"Convert this dataframe to an interactive table.\"\n",
              "              style=\"display:none;\">\n",
              "        \n",
              "  <svg xmlns=\"http://www.w3.org/2000/svg\" height=\"24px\"viewBox=\"0 0 24 24\"\n",
              "       width=\"24px\">\n",
              "    <path d=\"M0 0h24v24H0V0z\" fill=\"none\"/>\n",
              "    <path d=\"M18.56 5.44l.94 2.06.94-2.06 2.06-.94-2.06-.94-.94-2.06-.94 2.06-2.06.94zm-11 1L8.5 8.5l.94-2.06 2.06-.94-2.06-.94L8.5 2.5l-.94 2.06-2.06.94zm10 10l.94 2.06.94-2.06 2.06-.94-2.06-.94-.94-2.06-.94 2.06-2.06.94z\"/><path d=\"M17.41 7.96l-1.37-1.37c-.4-.4-.92-.59-1.43-.59-.52 0-1.04.2-1.43.59L10.3 9.45l-7.72 7.72c-.78.78-.78 2.05 0 2.83L4 21.41c.39.39.9.59 1.41.59.51 0 1.02-.2 1.41-.59l7.78-7.78 2.81-2.81c.8-.78.8-2.07 0-2.86zM5.41 20L4 18.59l7.72-7.72 1.47 1.35L5.41 20z\"/>\n",
              "  </svg>\n",
              "      </button>\n",
              "      \n",
              "  <style>\n",
              "    .colab-df-container {\n",
              "      display:flex;\n",
              "      flex-wrap:wrap;\n",
              "      gap: 12px;\n",
              "    }\n",
              "\n",
              "    .colab-df-convert {\n",
              "      background-color: #E8F0FE;\n",
              "      border: none;\n",
              "      border-radius: 50%;\n",
              "      cursor: pointer;\n",
              "      display: none;\n",
              "      fill: #1967D2;\n",
              "      height: 32px;\n",
              "      padding: 0 0 0 0;\n",
              "      width: 32px;\n",
              "    }\n",
              "\n",
              "    .colab-df-convert:hover {\n",
              "      background-color: #E2EBFA;\n",
              "      box-shadow: 0px 1px 2px rgba(60, 64, 67, 0.3), 0px 1px 3px 1px rgba(60, 64, 67, 0.15);\n",
              "      fill: #174EA6;\n",
              "    }\n",
              "\n",
              "    [theme=dark] .colab-df-convert {\n",
              "      background-color: #3B4455;\n",
              "      fill: #D2E3FC;\n",
              "    }\n",
              "\n",
              "    [theme=dark] .colab-df-convert:hover {\n",
              "      background-color: #434B5C;\n",
              "      box-shadow: 0px 1px 3px 1px rgba(0, 0, 0, 0.15);\n",
              "      filter: drop-shadow(0px 1px 2px rgba(0, 0, 0, 0.3));\n",
              "      fill: #FFFFFF;\n",
              "    }\n",
              "  </style>\n",
              "\n",
              "      <script>\n",
              "        const buttonEl =\n",
              "          document.querySelector('#df-11d196d2-7ba9-48f7-afbf-90882ffd5b9b button.colab-df-convert');\n",
              "        buttonEl.style.display =\n",
              "          google.colab.kernel.accessAllowed ? 'block' : 'none';\n",
              "\n",
              "        async function convertToInteractive(key) {\n",
              "          const element = document.querySelector('#df-11d196d2-7ba9-48f7-afbf-90882ffd5b9b');\n",
              "          const dataTable =\n",
              "            await google.colab.kernel.invokeFunction('convertToInteractive',\n",
              "                                                     [key], {});\n",
              "          if (!dataTable) return;\n",
              "\n",
              "          const docLinkHtml = 'Like what you see? Visit the ' +\n",
              "            '<a target=\"_blank\" href=https://colab.research.google.com/notebooks/data_table.ipynb>data table notebook</a>'\n",
              "            + ' to learn more about interactive tables.';\n",
              "          element.innerHTML = '';\n",
              "          dataTable['output_type'] = 'display_data';\n",
              "          await google.colab.output.renderOutput(dataTable, element);\n",
              "          const docLink = document.createElement('div');\n",
              "          docLink.innerHTML = docLinkHtml;\n",
              "          element.appendChild(docLink);\n",
              "        }\n",
              "      </script>\n",
              "    </div>\n",
              "  </div>\n",
              "  "
            ],
            "text/plain": [
              "               Age          BMI     Children       Premium\n",
              "count  1338.000000  1338.000000  1338.000000   1338.000000\n",
              "mean     39.207025    30.663397     1.094918  13270.414798\n",
              "std      14.049960     6.098187     1.205493  12110.012882\n",
              "min      18.000000    15.960000     0.000000   1122.000000\n",
              "25%      27.000000    26.296250     0.000000   4740.000000\n",
              "50%      39.000000    30.400000     1.000000   9382.000000\n",
              "75%      51.000000    34.693750     2.000000  16640.000000\n",
              "max      64.000000    53.130000     5.000000  63770.000000"
            ]
          },
          "metadata": {},
          "execution_count": 4
        }
      ],
      "source": [
        "df.describe()"
      ]
    },
    {
      "cell_type": "markdown",
      "id": "d791bd83",
      "metadata": {
        "id": "d791bd83"
      },
      "source": [
        "## We see the mean is not in same range for all the columns and the std is not equal/around 0: scaling is required"
      ]
    },
    {
      "cell_type": "code",
      "execution_count": 5,
      "id": "fcb58e3b",
      "metadata": {
        "colab": {
          "base_uri": "https://localhost:8080/"
        },
        "id": "fcb58e3b",
        "outputId": "538280aa-e3ba-4e0c-bc54-fd105ab8960e"
      },
      "outputs": [
        {
          "output_type": "stream",
          "name": "stdout",
          "text": [
            "<class 'pandas.core.frame.DataFrame'>\n",
            "Int64Index: 1338 entries, 1 to 1338\n",
            "Data columns (total 7 columns):\n",
            " #   Column    Non-Null Count  Dtype  \n",
            "---  ------    --------------  -----  \n",
            " 0   Age       1338 non-null   int64  \n",
            " 1   Gender    1338 non-null   object \n",
            " 2   BMI       1338 non-null   float64\n",
            " 3   Children  1338 non-null   int64  \n",
            " 4   Smoker    1338 non-null   object \n",
            " 5   Region    1338 non-null   object \n",
            " 6   Premium   1338 non-null   int64  \n",
            "dtypes: float64(1), int64(3), object(3)\n",
            "memory usage: 83.6+ KB\n"
          ]
        }
      ],
      "source": [
        "df.info()"
      ]
    },
    {
      "cell_type": "code",
      "execution_count": 6,
      "id": "123342fe",
      "metadata": {
        "colab": {
          "base_uri": "https://localhost:8080/"
        },
        "id": "123342fe",
        "outputId": "b4002ef8-978b-480a-ac7c-deb945376b12"
      },
      "outputs": [
        {
          "output_type": "execute_result",
          "data": {
            "text/plain": [
              "Age         0\n",
              "Gender      0\n",
              "BMI         0\n",
              "Children    0\n",
              "Smoker      0\n",
              "Region      0\n",
              "Premium     0\n",
              "dtype: int64"
            ]
          },
          "metadata": {},
          "execution_count": 6
        }
      ],
      "source": [
        "df.isnull().sum()"
      ]
    },
    {
      "cell_type": "code",
      "execution_count": 7,
      "id": "9c8fc945",
      "metadata": {
        "colab": {
          "base_uri": "https://localhost:8080/"
        },
        "id": "9c8fc945",
        "outputId": "e9b4d794-b5f4-4a51-e126-5988e0a6e521"
      },
      "outputs": [
        {
          "output_type": "execute_result",
          "data": {
            "text/plain": [
              "array(['south', 'east', 'west', 'north'], dtype=object)"
            ]
          },
          "metadata": {},
          "execution_count": 7
        }
      ],
      "source": [
        "df['Region'].unique()"
      ]
    },
    {
      "cell_type": "code",
      "execution_count": 8,
      "id": "fc935586",
      "metadata": {
        "scrolled": false,
        "colab": {
          "base_uri": "https://localhost:8080/",
          "height": 299
        },
        "id": "fc935586",
        "outputId": "b9a1994f-12c2-45d3-d434-3541665dc461"
      },
      "outputs": [
        {
          "output_type": "execute_result",
          "data": {
            "text/plain": [
              "<matplotlib.axes._subplots.AxesSubplot at 0x7f09682bd390>"
            ]
          },
          "metadata": {},
          "execution_count": 8
        },
        {
          "output_type": "display_data",
          "data": {
            "image/png": "[encoded data removed]",
            "text/plain": [
              "<Figure size 432x288 with 1 Axes>"
            ]
          },
          "metadata": {
            "needs_background": "light"
          }
        }
      ],
      "source": [
        "sns.countplot(data= df, x=\"Children\")"
      ]
    },
    {
      "cell_type": "markdown",
      "id": "694a0fd1",
      "metadata": {
        "id": "694a0fd1"
      },
      "source": [
        "There are many people with no children and people with 1 and 2 are almost same. "
      ]
    },
    {
      "cell_type": "code",
      "execution_count": 9,
      "id": "e0a1c1c3",
      "metadata": {
        "colab": {
          "base_uri": "https://localhost:8080/",
          "height": 542
        },
        "id": "e0a1c1c3",
        "outputId": "dea7e3c3-2a25-4c20-c604-0cd43e2bc415"
      },
      "outputs": [
        {
          "output_type": "display_data",
          "data": {
            "text/html": [
              "<html>\n",
              "<head><meta charset=\"utf-8\" /></head>\n",
              "<body>\n",
              "    <div>            <script src=\"https://cdnjs.cloudflare.com/ajax/libs/mathjax/2.7.5/MathJax.js?config=TeX-AMS-MML_SVG\"></script><script type=\"text/javascript\">if (window.MathJax) {MathJax.Hub.Config({SVG: {font: \"STIX-Web\"}});}</script>                <script type=\"text/javascript\">window.PlotlyConfig = {MathJaxConfig: 'local'};</script>\n",
              "        <script src=\"https://cdn.plot.ly/plotly-2.8.3.min.js\"></script>                <div id=\"b997a46f-d34d-4060-b328-76486b28b610\" class=\"plotly-graph-div\" style=\"height:525px; width:100%;\"></div>            <script type=\"text/javascript\">                                    window.PLOTLYENV=window.PLOTLYENV || {};                                    if (document.getElementById(\"b997a46f-d34d-4060-b328-76486b28b610\")) {                    Plotly.newPlot(                        \"b997a46f-d34d-4060-b328-76486b28b610\",                        [{\"hovertemplate\":\"Region=south<br>BMI=%{x}<br>Premium=%{y}<extra></extra>\",\"legendgroup\":\"south\",\"marker\":{\"color\":\"#636efa\",\"symbol\":\"circle\"},\"mode\":\"markers\",\"name\":\"south\",\"showlegend\":true,\"x\":[27.9,34.4,24.6,40.3,35.3,32.4,36.3,35.6,28.6,36.4,20.8,39.9,37.3,28.0,28.9,39.1,28.1,27.4,34.8,27.2,31.3,30.8,19.3,31.6,27.5,28.4,29.7,30.8,37.1,28.3,37.4,34.7,35.9,34.1,36.0,28.4,39.6,29.8,37.0,30.3,34.8,37.7,29.2,28.9,30.9,32.2,26.2,32.8,22.3,31.8,33.0,30.9,37.1,33.7,30.8,34.8,17.8,27.5,26.8,35.3,20.9,32.2,30.3,25.2,30.2,34.2,24.3,31.2,33.4,26.8,27.7,38.0,27.5,26.6,24.7,31.4,30.8,27.2,33.8,36.7,34.5,27.6,25.6,27.7,27.6,30.5,21.7,26.4,32.9,34.4,34.4,25.6,20.6,20.4,23.6,23.9,22.6,30.2,33.1,26.9,30.5,28.9,33.5,33.1,29.6,38.6,29.6,23.4,37.4,39.6,30.0,28.7,29.8,25.1,39.5,34.3,28.7,32.9,43.4,25.7,23.6,28.7,39.2,34.4,28.7,30.4,28.3,35.7,31.0,25.8,38.9,30.2,38.0,46.7,30.8,21.4,23.8,30.5,31.9,29.1,30.2,20.7,29.0,32.6,25.3,37.8,34.8,25.6,37.1,31.4,34.1,21.3,38.0,36.1,29.3,39.7,42.4,42.4,28.7,36.1,17.4,20.3,35.3,18.5,24.1,36.2,34.8,32.9,22.6,28.9,36.6,37.4,35.4,21.4,30.1,32.1,23.7,35.5,27.0,36.0,35.2,27.1,32.3,29.0,39.7,36.1,26.7,24.4,27.6,27.7,27.6,33.1,22.3,30.8,37.1,33.7,33.1,31.5,31.1,34.2,24.1,29.6,28.1,47.6,28.0,25.4,29.9,43.7,24.3,36.2,30.1,27.1,28.8,29.5,34.8,39.5,44.0,35.1,39.8,24.6,27.5,28.2,25.0,33.2,31.0,23.2,23.4,20.1,32.5,25.8,35.3,27.5,35.8,35.8,29.7,30.2,25.9,27.1,40.5,25.9,25.8,19.8,31.6,34.1,32.7,25.8,29.6,22.8,27.6,34.2,37.0,34.6,31.6,23.0,25.8,30.9,29.8,28.9,25.6,25.3,32.0,31.5,18.3,22.1,32.7,33.7,28.6,29.8,30.0,31.4,29.9,32.8,18.6,45.9,25.0,32.6,32.3,32.8,21.5,34.1,41.1,24.6,35.2,26.7,27.1,27.4,30.3,28.0,25.8,34.8,33.4,37.1,33.3,34.6,21.8,23.3,24.3,25.7,29.4,19.8,27.3,29.3,37.9,37.1,29.9,30.5,33.3,27.5,23.7,36.3,25.9,39.4,34.9,22.0,20.8,27.8,30.2,32.2,42.9,34.7,20.6,38.6,33.4,44.7,25.8],\"xaxis\":\"x\",\"y\":[16885,1827,1837,10602,36837,4150,38711,35586,4688,51195,2302,48173,20630,23568,1743,14235,11742,7727,39837,11073,47291,12105,15821,6186,5004,2332,11881,4647,7740,17081,9635,6082,11164,1261,2167,1843,10451,5152,4831,8117,5246,48824,10436,8823,5326,6776,4884,5650,7147,13881,1980,8520,7372,5012,5254,34780,1728,12334,35160,7197,1832,47305,4261,11837,7441,42857,2150,9626,3172,3906,16298,12646,20178,8444,1737,34839,35492,2866,47928,9145,13823,18955,8932,3554,24603,4751,13845,2598,36085,1262,8522,14988,9265,3260,8540,5080,18608,8968,23083,5970,12638,5927,37079,7345,5911,4762,7512,1970,21797,10601,22144,13225,1744,25382,9880,9563,1254,1749,12574,17942,4932,8028,13471,36198,11455,1256,21082,11363,5241,9861,5972,8825,6196,11538,13391,12957,3848,2494,11553,3761,9725,1243,11842,7442,11071,39241,6572,23307,10714,3659,40182,9182,11366,10086,1978,9391,6666,3410,8703,12364,2585,1242,40104,4766,26237,8068,3578,5375,2458,12147,11265,12979,1263,10065,4235,14007,3484,44585,11738,8557,2417,19041,8063,7051,14319,27941,11151,18259,24520,6414,1252,11848,2103,9415,3598,7446,13394,4402,1526,9873,2974,1875,10965,46114,7151,8782,6600,11576,4392,8458,6849,26140,6282,6312,3443,1683,13064,12645,15170,17496,7627,13042,13451,13463,5488,6250,2914,12032,6238,10097,7348,12234,11674,7160,19933,38999,3353,4746,1759,19200,7625,3379,10118,7419,34473,1973,21232,8269,5384,3988,8799,2020,9850,12094,3161,39728,25309,8278,5709,7045,8551,4076,19023,10577,3591,11299,11253,20421,2904,34166,10215,14358,1729,3693,7624,7955,9630,52591,10792,5980,3990,4529,4671,22479,2154,6497,2633,13127,4935,36911,38415,12347,10807,41662,20167,11346,5615,9102,6059,1242,16233,15829,6474,3277,7338,10704,1880,8615,10959,47404,5472,38345,34829,1965,3209,37830,33901,6876,4536,36398,1732,10325,10796,11412,2008],\"yaxis\":\"y\",\"type\":\"scattergl\"},{\"hovertemplate\":\"Region=east<br>BMI=%{x}<br>Premium=%{y}<extra></extra>\",\"legendgroup\":\"east\",\"marker\":{\"color\":\"#EF553B\",\"symbol\":\"circle\"},\"mode\":\"markers\",\"name\":\"east\",\"showlegend\":true,\"x\":[33.77,33.0,25.74,33.44,26.29,39.82,42.13,34.1,27.72,36.63,21.78,30.8,24.53,35.2,34.43,31.68,22.88,33.66,36.19,23.98,24.75,32.01,29.59,35.53,37.62,39.49,37.62,38.28,29.92,27.94,35.09,49.06,27.94,27.17,28.05,31.9,25.3,38.83,37.73,29.7,24.42,35.53,27.83,36.85,41.47,38.28,30.69,29.92,31.57,25.74,34.43,28.6,32.23,36.08,26.4,26.73,23.1,29.92,23.21,24.64,33.88,38.06,41.91,27.83,22.22,26.73,38.39,38.06,38.06,35.86,34.21,40.15,26.84,38.06,42.35,19.8,29.37,31.79,21.56,26.62,26.4,45.54,28.82,25.41,37.51,33.0,33.33,35.97,35.86,23.21,25.74,27.72,41.47,29.26,35.75,29.92,38.28,43.89,41.91,20.79,21.89,33.33,40.15,31.46,33.0,43.34,39.05,31.02,38.17,47.52,24.31,21.12,30.03,35.64,34.1,39.16,33.88,35.86,24.31,33.11,46.75,43.01,36.52,46.53,30.14,33.0,36.63,28.38,24.09,32.67,36.85,32.56,37.51,31.35,38.06,25.08,23.98,23.21,30.25,28.93,33.66,35.31,44.22,37.73,26.07,33.88,42.13,29.7,36.19,40.48,28.05,31.35,31.79,36.3,47.41,46.2,28.93,34.21,44.77,32.12,37.29,43.12,26.84,45.43,23.65,28.27,30.69,31.13,40.26,29.48,39.16,39.05,34.1,29.37,33.0,36.63,33.11,42.46,35.53,33.66,35.31,42.68,39.6,31.13,36.3,35.2,25.3,46.53,23.98,33.66,22.99,38.06,29.81,31.57,29.7,31.02,43.89,40.81,41.69,31.13,35.75,39.27,34.87,41.47,38.06,35.2,23.54,39.05,36.08,24.42,38.39,29.15,26.62,26.4,22.77,27.83,38.17,33.33,34.32,41.14,35.97,29.26,29.92,41.8,20.9,44.22,26.18,35.97,42.24,26.51,30.14,21.01,34.43,31.46,31.13,29.81,31.79,35.97,32.78,29.81,32.45,50.38,33.11,32.23,37.29,29.48,24.86,33.44,28.93,29.04,38.94,40.26,40.92,36.85,32.34,33.99,34.21,39.16,34.21,46.53,37.18,26.18,29.48,23.21,46.09,39.93,42.9,39.49,30.8,35.2,34.32,28.16,35.42,40.15,29.15,29.92,28.27,36.85,20.13,33.33,31.02,36.08,23.32,45.32,35.2,37.07,52.58,31.79,39.49,32.01,27.94,41.14,37.29,31.9,37.07,29.59,31.68,33.66,21.78,47.74,36.19,33.77,33.99,38.94,36.08,31.24,20.35,38.39,25.85,32.67,33.33,35.75,38.17,35.86,23.87,30.25,37.07,24.86,32.34,32.56,44.88,42.13,38.83,40.37,41.91,29.81,28.49,33.55,27.28,34.1,25.08,37.29,24.97,25.3,24.42,39.82,37.18,34.43,27.83,42.13,41.8,36.96,33.11,33.33,39.82,27.72,28.05,23.76,25.52,27.61,27.06,33.33,30.03,34.32,23.21,26.51,30.36,27.72,53.13,38.83,40.37,30.03,25.74,36.85],\"xaxis\":\"x\",\"y\":[1726,4449,3757,8241,27809,11091,39612,1137,14001,4950,6272,6314,12630,38709,37743,34303,23245,4505,5920,17663,16578,11947,3947,1532,37165,2027,3767,10226,30942,2867,47056,11381,19108,8601,2156,27323,18972,5138,9878,7790,21224,36950,19749,36149,13405,1632,7731,3982,12558,2138,1137,8517,8871,37134,11743,5003,2484,3393,25082,19516,11987,2689,24227,14001,19444,1616,4463,7153,12649,1987,44261,5401,17085,20463,46151,17180,1719,12929,9855,7742,25993,42112,2157,21979,12266,4349,4151,42125,8124,3562,12143,8233,10977,6184,4890,5478,14133,8944,1837,1608,3181,1392,38126,27001,20781,5847,11856,16586,1632,8084,4185,6653,4074,7346,9141,14418,46889,46599,9789,13920,12593,1149,28288,4686,11882,7683,10381,19522,2201,2497,1534,1824,9305,1622,48885,24513,8211,22218,32548,5974,2498,27724,3994,5398,38246,11483,48676,12926,19215,13831,8233,27346,3056,13887,63770,45863,3973,3935,9059,2801,2219,4754,1665,6356,17626,4780,5977,2566,5709,7640,1633,16085,9284,8548,1880,42970,34440,11327,3367,12949,18806,9801,10580,8281,8528,12245,24667,6436,22192,1136,27038,42560,6500,4838,4400,6185,46201,12486,5439,34806,40274,3501,2021,9504,44400,1728,10107,40932,6781,19362,40419,18246,3758,19539,11834,23065,36308,10560,5934,1147,9386,4351,13458,5662,21196,4266,7047,14314,38793,1816,1132,11014,5584,1878,1622,8219,43814,7160,36021,27534,45009,2438,40974,18218,1141,3392,5967,6654,19720,7244,44203,1635,48674,8126,7634,2473,5245,13471,6290,2927,4673,2304,9488,1122,9550,12983,47463,3876,42000,14475,8597,10703,2323,7804,2903,4889,5484,13888,18768,36580,35596,42211,1711,8570,44424,37484,44501,17929,2481,1982,11554,48970,8978,10929,39872,4563,34672,15162,11884,9749,41676,1675,3227,3471,11363,10339,8605,41949,24181,10807,36125,38283,8347,5837,8582,3704,9048,27118,6338,40941,39723,5124,18963,10983,11094,19350,18328,5700,18223,23563,5416,4058,6594,8443,26126,4796,7162,10594,8516,3238,47270,49578,3172,1136,1634,4415,6770,26927,14478,4747,17043,8284,1720,7147,1515,4340,62593,2465,1163,12981,43896,9378,12629,1630],\"yaxis\":\"y\",\"type\":\"scattergl\"},{\"hovertemplate\":\"Region=west<br>BMI=%{x}<br>Premium=%{y}<extra></extra>\",\"legendgroup\":\"west\",\"marker\":{\"color\":\"#00cc96\",\"symbol\":\"circle\"},\"mode\":\"markers\",\"name\":\"west\",\"showlegend\":true,\"x\":[22.705,28.88,27.74,25.84,28.025,32.775,17.385,28.31,20.425,32.965,34.77,33.63,28.69,36.955,37.335,24.7,25.935,22.42,26.315,34.01,32.965,41.23,22.895,31.16,27.74,26.98,24.795,34.77,28.025,30.875,33.63,35.72,23.37,28.975,33.915,17.765,25.555,25.175,29.735,28.69,30.495,37.43,24.13,39.52,26.6,29.64,33.155,31.825,33.345,27.835,28.595,26.41,32.11,26.6,30.59,18.05,32.11,24.035,30.875,28.5,26.6,36.195,24.51,29.07,30.02,33.63,24.415,31.92,36.955,37.05,27.55,20.615,26.22,34.39,28.88,33.345,33.06,32.205,27.645,25.27,36.48,27.36,31.16,27.55,30.02,27.835,23.18,29.83,24.985,32.015,21.09,28.31,30.115,25.365,22.61,30.21,37.43,19.855,32.965,32.3,17.48,35.15,26.98,30.4,20.235,28.595,32.68,26.695,25.65,24.13,29.735,30.495,25.175,33.82,28.31,35.625,41.325,21.47,31.16,30.875,31.35,23.75,30.495,30.59,30.21,25.84,31.73,34.105,35.53,19.95,30.495,40.565,30.59,40.565,27.17,30.59,30.21,19.57,37.525,31.635,28.31,23.655,28.785,26.03,38.95,24.51,28.31,34.96,26.22,33.155,32.775,21.375,31.35,23.18,24.32,32.395,23.655,40.185,33.725,26.41,29.545,28.69,30.685,22.61,24.32,36.67,33.44,28.405,34.77,26.41,30.115,21.755,30.875,28.975,37.905,31.825,19.475,28.88,34.2,32.3,28.88,36.86,31.92,28.5,35.815,41.42,36.575,42.94,24.225,35.53,17.67,24.32,21.85,25.84,23.845,34.39,33.82,31.35,32.775,32.3,24.13,33.535,28.12,27.36,26.695,30.02,33.63,26.885,25.555,22.515,28.31,26.695,24.605,26.885,35.815,24.225,22.61,31.255,28.405,27.835,26.79,36.67,39.615,36.765,24.795,25.365,20.235,30.115,27.645,20.045,26.885,22.99,31.73,28.215,32.3,25.46,24.605,35.815,32.68,26.03,18.715,23.655,38.38,30.495,27.265,28.025,24.7,22.515,36.955,21.47,27.645,33.82,28.595,21.66,31.255,27.835,19.95,30.495,31.54,30.4,29.925,26.22,26.315,19.95,36.86,25.08,18.335,33.82,28.12,22.23,32.49,32.775,31.92,36.48,35.815,27.93,23.18,34.58,28.31,34.105,29.26,32.11,24.13,29.925,35.625,32.68,32.775,36.575,21.755,27.93,30.02,29.355,24.32,40.375,32.11,17.86,30.875,31.255,30.21,34.485,24.605,31.065,28.215,21.28,36.385,27.645,37.715,33.915,34.485,29.735,26.79,27.645,25.745,27.455,25.745,30.875,28.12,26.315,26.695,23.655,26.315,31.065,25.935,30.97,29.07],\"xaxis\":\"x\",\"y\":[21984,3867,7282,28923,6204,12269,2775,13770,1625,15612,3557,3580,8060,47496,5990,30167,4134,14712,6389,11357,6571,11034,21099,43579,8027,11083,10942,5729,17560,3877,10825,2405,6686,2257,10115,32734,1633,2046,18158,20746,40721,10960,5125,6949,21349,5028,6129,2719,2855,6456,11736,7419,4923,12044,1640,9644,2131,13012,8163,3538,10356,7444,6710,17353,24476,43921,11520,33750,36219,7266,2523,2804,14256,38746,9249,19442,7749,8835,7421,4895,42761,24394,13429,13938,13352,1636,11831,9620,8017,8116,13415,18034,16456,30285,3177,4618,2138,7527,14693,10269,1621,2135,28950,18805,4906,4244,4738,26109,11454,4032,1770,11841,1632,12643,28869,2534,15555,12475,10462,6797,2643,3077,8413,24060,10231,23807,11188,39983,1646,9194,2128,6374,7257,45702,12223,1640,43944,8428,33472,9174,17469,25679,12130,3736,42983,2709,32787,4467,6124,4059,40003,7223,46131,10157,9863,2362,2353,3201,10976,5385,8931,10264,8311,9567,13113,10848,12232,6665,9584,8827,9910,1627,3063,1906,14211,11843,6933,17749,7262,6987,9870,1917,7209,18311,7732,28477,2137,6361,2843,55135,2681,12524,6117,5266,4720,11744,5377,12622,10602,14120,15818,12270,2690,2789,4878,5272,11945,29331,2222,2117,2639,14383,5258,21774,4320,8966,1628,6359,4527,20010,12610,28469,2730,26467,23967,7518,2528,8410,28340,16420,5268,17362,4433,24915,8765,12125,2709,12495,26019,16451,21595,21677,12950,39726,22494,20235,21881,3594,8023,3353,10595,4463,6548,14350,1910,4454,5856,15020,11353,33908,8988,10494,5312,5693,46661,14255,9991,19673,11086,3176,36899,11289,2262,12236,5630,11015,14426,7727,7154,6112,6458,4434,23888,2851,37465,13845,5327,8671,4134,18839,33308,6394,6199,8733,2055,5117,5373,3956,7537,60021,12480,2700,12224,4296,11437,11306,30064,3293,3022,4357,4189,24536,9302,5261,2711,46718,21472,6941,4571,18766,7202,5425,4240,10601,29141],\"yaxis\":\"y\",\"type\":\"scattergl\"},{\"hovertemplate\":\"Region=north<br>BMI=%{x}<br>Premium=%{y}<extra></extra>\",\"legendgroup\":\"north\",\"marker\":{\"color\":\"#ab63fa\",\"symbol\":\"circle\"},\"mode\":\"markers\",\"name\":\"north\",\"showlegend\":true,\"x\":[29.83,26.22,30.78,23.845,36.005,31.92,23.085,26.315,36.67,26.6,37.05,38.665,35.625,31.825,27.36,28.5,39.805,26.885,38.285,29.83,19.95,25.46,30.115,32.205,28.595,23.75,31.35,28.785,26.505,22.04,28.785,22.42,32.49,37.145,23.37,25.46,25.175,28.215,18.905,15.96,33.155,19.95,41.895,39.33,28.88,27.74,41.23,33.25,31.635,25.46,36.67,22.135,27.74,28.975,17.29,31.825,25.365,24.32,32.395,25.84,27.455,26.6,28.12,40.565,27.645,32.395,48.07,36.765,29.64,22.99,27.55,22.61,34.865,33.25,32.775,37.335,29.64,40.945,34.105,36.385,28.785,35.72,32.3,27.55,36.765,33.345,35.245,32.3,30.78,32.3,30.4,22.23,33.155,24.89,17.955,30.685,22.135,35.625,31.445,31.35,32.3,38.38,20.235,17.195,32.775,30.59,27.265,29.165,16.815,31.73,29.45,29.64,38.095,25.935,24.32,30.115,33.345,28.5,31.065,25.08,27.93,26.03,25.27,32.11,22.42,30.875,27.36,33.915,39.425,25.46,31.73,28.025,35.435,28.595,41.325,33.44,32.68,36.86,34.295,38.095,23.465,25.46,20.235,35.91,21.85,33.725,33.25,25.175,26.98,33.155,19.0,28.595,33.535,28.88,22.705,38.19,38.095,26.41,33.915,30.78,23.37,28.5,32.965,35.91,28.785,31.54,32.015,31.16,26.41,26.125,27.36,32.3,44.745,30.495,27.74,40.47,40.66,27.075,21.755,40.28,27.265,31.73,24.035,34.105,33.63,27.645,22.8,37.43,34.58,26.03,25.175,36.48,39.805,36.955,22.515,23.18,22.895,24.795,25.84,22.515,26.125,31.825,28.025,30.78,28.31,23.465,24.7,30.495,30.78,35.53,23.75,23.845,19.855,23.655,21.85,22.135,37.05,28.975,24.035,32.11,20.045,22.515,27.265,29.355,32.585,31.73,22.895,32.11,29.735,40.185,34.2,18.335,34.96,24.795,25.745,23.56,22.895,39.995,25.46,21.375,30.59,30.115,34.675,20.52,27.835,23.275,36.29,19.19,29.26,24.985,27.74,17.29,27.93,21.565,28.88,23.085,30.685,35.245,25.08,26.41,29.83,42.655,31.445,28.88,18.335,26.03,28.975,29.83,31.35,34.96,30.875,19.095,32.3,24.51,29.64,32.395,42.75,40.28,30.305,22.135,30.59,28.215,26.125,27.36,34.865,41.325,27.36,23.56,25.27,21.755,32.395,32.3,25.555,21.47,39.14,21.945,23.94,16.815,30.305,21.66,22.705,33.63,29.83,23.18,20.52,33.345,31.065,30.4,29.925,21.66,24.32,17.29,19.95,25.175,26.125,24.605,21.85,28.31,39.71,26.695,33.535,32.87,24.225,31.92],\"xaxis\":\"x\",\"y\":[6406,2721,10797,2395,13229,37702,14452,2198,39774,3046,6080,3393,2211,13607,8606,6799,2755,4441,7935,30185,22413,3645,21345,11488,30260,1706,39556,3385,12815,13616,2457,27376,3491,6334,19965,7077,15518,10407,4828,1695,8538,4005,43753,14902,4338,20984,6610,10565,7358,9225,38512,5354,29523,4041,12829,41097,13047,24870,14591,9282,9618,9716,22332,48549,4237,11879,9433,47897,20278,1705,6747,24873,11945,9723,10435,4668,24672,11566,6600,48518,11658,19145,41919,13217,13982,8334,12405,10043,9778,13430,3482,12029,7639,21660,15007,42304,8303,10737,8964,9290,9411,11397,19595,14456,39125,2727,6555,7324,3167,2255,2897,12731,15230,11165,23289,2203,20879,35148,4347,2196,1967,6837,3044,11763,9361,3858,25657,9866,8343,1708,14043,6067,3269,3214,17879,8335,10924,31620,13224,58571,3206,12914,3861,13636,15359,8824,5595,3559,4435,2208,6753,11658,34618,6749,7173,14411,24915,20149,13144,10141,8252,1712,12431,26392,14394,5149,45710,3944,11244,7730,2104,29186,9542,6113,5469,1984,9876,10106,16658,2218,9447,36189,8604,43254,17128,5031,7986,5429,3926,3071,9095,12797,7448,12741,5210,2732,4720,17905,3310,4429,23401,16069,20774,39597,11658,6402,12324,10072,37270,42112,11730,24107,5458,13130,8891,2586,46255,27218,10423,13555,19798,8689,4661,4564,4847,33733,35069,25333,32109,2217,39047,11535,41034,9501,3280,4992,16139,9705,25517,4500,16796,4915,4519,14572,7145,7986,6552,8628,4438,23241,9958,6878,4138,13748,2251,1705,33476,11394,7325,14395,9288,5757,13974,12097,13204,2102,10796,11287,4561,44641,23046,16776,11512,2396,9222,18903,40904,20709,2204,7228,2460,2201,5228,17179,2899,7651,9447,8604,21771,13725,13019,9964,20297,1702,12890,4718,6858,6641,11938,14450,6986,37608,18648,10198,4544,10371,34254,2742,22462,14283,8535,3733,7134,11931,1709,21259,16115,11272,19497,28101,13143,7050,22396,2206],\"yaxis\":\"y\",\"type\":\"scattergl\"}],                        {\"template\":{\"data\":{\"bar\":[{\"error_x\":{\"color\":\"#2a3f5f\"},\"error_y\":{\"color\":\"#2a3f5f\"},\"marker\":{\"line\":{\"color\":\"#E5ECF6\",\"width\":0.5},\"pattern\":{\"fillmode\":\"overlay\",\"size\":10,\"solidity\":0.2}},\"type\":\"bar\"}],\"barpolar\":[{\"marker\":{\"line\":{\"color\":\"#E5ECF6\",\"width\":0.5},\"pattern\":{\"fillmode\":\"overlay\",\"size\":10,\"solidity\":0.2}},\"type\":\"barpolar\"}],\"carpet\":[{\"aaxis\":{\"endlinecolor\":\"#2a3f5f\",\"gridcolor\":\"white\",\"linecolor\":\"white\",\"minorgridcolor\":\"white\",\"startlinecolor\":\"#2a3f5f\"},\"baxis\":{\"endlinecolor\":\"#2a3f5f\",\"gridcolor\":\"white\",\"linecolor\":\"white\",\"minorgridcolor\":\"white\",\"startlinecolor\":\"#2a3f5f\"},\"type\":\"carpet\"}],\"choropleth\":[{\"colorbar\":{\"outlinewidth\":0,\"ticks\":\"\"},\"type\":\"choropleth\"}],\"contour\":[{\"colorbar\":{\"outlinewidth\":0,\"ticks\":\"\"},\"colorscale\":[[0.0,\"#0d0887\"],[0.1111111111111111,\"#46039f\"],[0.2222222222222222,\"#7201a8\"],[0.3333333333333333,\"#9c179e\"],[0.4444444444444444,\"#bd3786\"],[0.5555555555555556,\"#d8576b\"],[0.6666666666666666,\"#ed7953\"],[0.7777777777777778,\"#fb9f3a\"],[0.8888888888888888,\"#fdca26\"],[1.0,\"#f0f921\"]],\"type\":\"contour\"}],\"contourcarpet\":[{\"colorbar\":{\"outlinewidth\":0,\"ticks\":\"\"},\"type\":\"contourcarpet\"}],\"heatmap\":[{\"colorbar\":{\"outlinewidth\":0,\"ticks\":\"\"},\"colorscale\":[[0.0,\"#0d0887\"],[0.1111111111111111,\"#46039f\"],[0.2222222222222222,\"#7201a8\"],[0.3333333333333333,\"#9c179e\"],[0.4444444444444444,\"#bd3786\"],[0.5555555555555556,\"#d8576b\"],[0.6666666666666666,\"#ed7953\"],[0.7777777777777778,\"#fb9f3a\"],[0.8888888888888888,\"#fdca26\"],[1.0,\"#f0f921\"]],\"type\":\"heatmap\"}],\"heatmapgl\":[{\"colorbar\":{\"outlinewidth\":0,\"ticks\":\"\"},\"colorscale\":[[0.0,\"#0d0887\"],[0.1111111111111111,\"#46039f\"],[0.2222222222222222,\"#7201a8\"],[0.3333333333333333,\"#9c179e\"],[0.4444444444444444,\"#bd3786\"],[0.5555555555555556,\"#d8576b\"],[0.6666666666666666,\"#ed7953\"],[0.7777777777777778,\"#fb9f3a\"],[0.8888888888888888,\"#fdca26\"],[1.0,\"#f0f921\"]],\"type\":\"heatmapgl\"}],\"histogram\":[{\"marker\":{\"pattern\":{\"fillmode\":\"overlay\",\"size\":10,\"solidity\":0.2}},\"type\":\"histogram\"}],\"histogram2d\":[{\"colorbar\":{\"outlinewidth\":0,\"ticks\":\"\"},\"colorscale\":[[0.0,\"#0d0887\"],[0.1111111111111111,\"#46039f\"],[0.2222222222222222,\"#7201a8\"],[0.3333333333333333,\"#9c179e\"],[0.4444444444444444,\"#bd3786\"],[0.5555555555555556,\"#d8576b\"],[0.6666666666666666,\"#ed7953\"],[0.7777777777777778,\"#fb9f3a\"],[0.8888888888888888,\"#fdca26\"],[1.0,\"#f0f921\"]],\"type\":\"histogram2d\"}],\"histogram2dcontour\":[{\"colorbar\":{\"outlinewidth\":0,\"ticks\":\"\"},\"colorscale\":[[0.0,\"#0d0887\"],[0.1111111111111111,\"#46039f\"],[0.2222222222222222,\"#7201a8\"],[0.3333333333333333,\"#9c179e\"],[0.4444444444444444,\"#bd3786\"],[0.5555555555555556,\"#d8576b\"],[0.6666666666666666,\"#ed7953\"],[0.7777777777777778,\"#fb9f3a\"],[0.8888888888888888,\"#fdca26\"],[1.0,\"#f0f921\"]],\"type\":\"histogram2dcontour\"}],\"mesh3d\":[{\"colorbar\":{\"outlinewidth\":0,\"ticks\":\"\"},\"type\":\"mesh3d\"}],\"parcoords\":[{\"line\":{\"colorbar\":{\"outlinewidth\":0,\"ticks\":\"\"}},\"type\":\"parcoords\"}],\"pie\":[{\"automargin\":true,\"type\":\"pie\"}],\"scatter\":[{\"marker\":{\"colorbar\":{\"outlinewidth\":0,\"ticks\":\"\"}},\"type\":\"scatter\"}],\"scatter3d\":[{\"line\":{\"colorbar\":{\"outlinewidth\":0,\"ticks\":\"\"}},\"marker\":{\"colorbar\":{\"outlinewidth\":0,\"ticks\":\"\"}},\"type\":\"scatter3d\"}],\"scattercarpet\":[{\"marker\":{\"colorbar\":{\"outlinewidth\":0,\"ticks\":\"\"}},\"type\":\"scattercarpet\"}],\"scattergeo\":[{\"marker\":{\"colorbar\":{\"outlinewidth\":0,\"ticks\":\"\"}},\"type\":\"scattergeo\"}],\"scattergl\":[{\"marker\":{\"colorbar\":{\"outlinewidth\":0,\"ticks\":\"\"}},\"type\":\"scattergl\"}],\"scattermapbox\":[{\"marker\":{\"colorbar\":{\"outlinewidth\":0,\"ticks\":\"\"}},\"type\":\"scattermapbox\"}],\"scatterpolar\":[{\"marker\":{\"colorbar\":{\"outlinewidth\":0,\"ticks\":\"\"}},\"type\":\"scatterpolar\"}],\"scatterpolargl\":[{\"marker\":{\"colorbar\":{\"outlinewidth\":0,\"ticks\":\"\"}},\"type\":\"scatterpolargl\"}],\"scatterternary\":[{\"marker\":{\"colorbar\":{\"outlinewidth\":0,\"ticks\":\"\"}},\"type\":\"scatterternary\"}],\"surface\":[{\"colorbar\":{\"outlinewidth\":0,\"ticks\":\"\"},\"colorscale\":[[0.0,\"#0d0887\"],[0.1111111111111111,\"#46039f\"],[0.2222222222222222,\"#7201a8\"],[0.3333333333333333,\"#9c179e\"],[0.4444444444444444,\"#bd3786\"],[0.5555555555555556,\"#d8576b\"],[0.6666666666666666,\"#ed7953\"],[0.7777777777777778,\"#fb9f3a\"],[0.8888888888888888,\"#fdca26\"],[1.0,\"#f0f921\"]],\"type\":\"surface\"}],\"table\":[{\"cells\":{\"fill\":{\"color\":\"#EBF0F8\"},\"line\":{\"color\":\"white\"}},\"header\":{\"fill\":{\"color\":\"#C8D4E3\"},\"line\":{\"color\":\"white\"}},\"type\":\"table\"}]},\"layout\":{\"annotationdefaults\":{\"arrowcolor\":\"#2a3f5f\",\"arrowhead\":0,\"arrowwidth\":1},\"autotypenumbers\":\"strict\",\"coloraxis\":{\"colorbar\":{\"outlinewidth\":0,\"ticks\":\"\"}},\"colorscale\":{\"diverging\":[[0,\"#8e0152\"],[0.1,\"#c51b7d\"],[0.2,\"#de77ae\"],[0.3,\"#f1b6da\"],[0.4,\"#fde0ef\"],[0.5,\"#f7f7f7\"],[0.6,\"#e6f5d0\"],[0.7,\"#b8e186\"],[0.8,\"#7fbc41\"],[0.9,\"#4d9221\"],[1,\"#276419\"]],\"sequential\":[[0.0,\"#0d0887\"],[0.1111111111111111,\"#46039f\"],[0.2222222222222222,\"#7201a8\"],[0.3333333333333333,\"#9c179e\"],[0.4444444444444444,\"#bd3786\"],[0.5555555555555556,\"#d8576b\"],[0.6666666666666666,\"#ed7953\"],[0.7777777777777778,\"#fb9f3a\"],[0.8888888888888888,\"#fdca26\"],[1.0,\"#f0f921\"]],\"sequentialminus\":[[0.0,\"#0d0887\"],[0.1111111111111111,\"#46039f\"],[0.2222222222222222,\"#7201a8\"],[0.3333333333333333,\"#9c179e\"],[0.4444444444444444,\"#bd3786\"],[0.5555555555555556,\"#d8576b\"],[0.6666666666666666,\"#ed7953\"],[0.7777777777777778,\"#fb9f3a\"],[0.8888888888888888,\"#fdca26\"],[1.0,\"#f0f921\"]]},\"colorway\":[\"#636efa\",\"#EF553B\",\"#00cc96\",\"#ab63fa\",\"#FFA15A\",\"#19d3f3\",\"#FF6692\",\"#B6E880\",\"#FF97FF\",\"#FECB52\"],\"font\":{\"color\":\"#2a3f5f\"},\"geo\":{\"bgcolor\":\"white\",\"lakecolor\":\"white\",\"landcolor\":\"#E5ECF6\",\"showlakes\":true,\"showland\":true,\"subunitcolor\":\"white\"},\"hoverlabel\":{\"align\":\"left\"},\"hovermode\":\"closest\",\"mapbox\":{\"style\":\"light\"},\"paper_bgcolor\":\"white\",\"plot_bgcolor\":\"#E5ECF6\",\"polar\":{\"angularaxis\":{\"gridcolor\":\"white\",\"linecolor\":\"white\",\"ticks\":\"\"},\"bgcolor\":\"#E5ECF6\",\"radialaxis\":{\"gridcolor\":\"white\",\"linecolor\":\"white\",\"ticks\":\"\"}},\"scene\":{\"xaxis\":{\"backgroundcolor\":\"#E5ECF6\",\"gridcolor\":\"white\",\"gridwidth\":2,\"linecolor\":\"white\",\"showbackground\":true,\"ticks\":\"\",\"zerolinecolor\":\"white\"},\"yaxis\":{\"backgroundcolor\":\"#E5ECF6\",\"gridcolor\":\"white\",\"gridwidth\":2,\"linecolor\":\"white\",\"showbackground\":true,\"ticks\":\"\",\"zerolinecolor\":\"white\"},\"zaxis\":{\"backgroundcolor\":\"#E5ECF6\",\"gridcolor\":\"white\",\"gridwidth\":2,\"linecolor\":\"white\",\"showbackground\":true,\"ticks\":\"\",\"zerolinecolor\":\"white\"}},\"shapedefaults\":{\"line\":{\"color\":\"#2a3f5f\"}},\"ternary\":{\"aaxis\":{\"gridcolor\":\"white\",\"linecolor\":\"white\",\"ticks\":\"\"},\"baxis\":{\"gridcolor\":\"white\",\"linecolor\":\"white\",\"ticks\":\"\"},\"bgcolor\":\"#E5ECF6\",\"caxis\":{\"gridcolor\":\"white\",\"linecolor\":\"white\",\"ticks\":\"\"}},\"title\":{\"x\":0.05},\"xaxis\":{\"automargin\":true,\"gridcolor\":\"white\",\"linecolor\":\"white\",\"ticks\":\"\",\"title\":{\"standoff\":15},\"zerolinecolor\":\"white\",\"zerolinewidth\":2},\"yaxis\":{\"automargin\":true,\"gridcolor\":\"white\",\"linecolor\":\"white\",\"ticks\":\"\",\"title\":{\"standoff\":15},\"zerolinecolor\":\"white\",\"zerolinewidth\":2}}},\"xaxis\":{\"anchor\":\"y\",\"domain\":[0.0,1.0],\"title\":{\"text\":\"BMI\"}},\"yaxis\":{\"anchor\":\"x\",\"domain\":[0.0,1.0],\"title\":{\"text\":\"Premium\"}},\"legend\":{\"title\":{\"text\":\"Region\"},\"tracegroupgap\":0},\"title\":{\"text\":\"BMI VS Premium\"}},                        {\"responsive\": true}                    ).then(function(){\n",
              "                            \n",
              "var gd = document.getElementById('b997a46f-d34d-4060-b328-76486b28b610');\n",
              "var x = new MutationObserver(function (mutations, observer) {{\n",
              "        var display = window.getComputedStyle(gd).display;\n",
              "        if (!display || display === 'none') {{\n",
              "            console.log([gd, 'removed!']);\n",
              "            Plotly.purge(gd);\n",
              "            observer.disconnect();\n",
              "        }}\n",
              "}});\n",
              "\n",
              "// Listen for the removal of the full notebook cells\n",
              "var notebookContainer = gd.closest('#notebook-container');\n",
              "if (notebookContainer) {{\n",
              "    x.observe(notebookContainer, {childList: true});\n",
              "}}\n",
              "\n",
              "// Listen for the clearing of the current output cell\n",
              "var outputEl = gd.closest('.output');\n",
              "if (outputEl) {{\n",
              "    x.observe(outputEl, {childList: true});\n",
              "}}\n",
              "\n",
              "                        })                };                            </script>        </div>\n",
              "</body>\n",
              "</html>"
            ]
          },
          "metadata": {}
        }
      ],
      "source": [
        "fig = px.scatter(df, x=\"BMI\", y=\"Premium\",color=\"Region\", title='BMI VS Premium')\n",
        "fig.show()"
      ]
    },
    {
      "cell_type": "markdown",
      "id": "f41f976a",
      "metadata": {
        "id": "f41f976a"
      },
      "source": [
        "From the above scatter plot:\n",
        "\n",
        "                (i) The  region is in no way a deciding factor for the value of premium\n",
        "                (ii) People in age group 15-35 have the avg premium value below 25K\n",
        "                (iii) People older than 35 have high premium"
      ]
    },
    {
      "cell_type": "code",
      "execution_count": 10,
      "id": "f22d8464",
      "metadata": {
        "colab": {
          "base_uri": "https://localhost:8080/",
          "height": 350
        },
        "id": "f22d8464",
        "outputId": "9bb34ad2-a11d-46e1-a470-10517d53c366"
      },
      "outputs": [
        {
          "output_type": "display_data",
          "data": {
            "image/png": "[encoded data removed]",
            "text/plain": [
              "<Figure size 576x360 with 1 Axes>"
            ]
          },
          "metadata": {
            "needs_background": "light"
          }
        }
      ],
      "source": [
        "plt.figure(figsize=(8,5))\n",
        "sns.lineplot(data=df, x='Age', y='Premium')\n",
        "plt.xlabel(\"AGE\")\n",
        "plt.ylabel(\"PREMIUM\")\n",
        "plt.title(\"AGE vs PREMIUM\")\n",
        "plt.grid()\n",
        "plt.show()"
      ]
    },
    {
      "cell_type": "markdown",
      "id": "9bdf5181",
      "metadata": {
        "id": "9bdf5181"
      },
      "source": [
        "Premium increases as the age of the person is increases."
      ]
    },
    {
      "cell_type": "code",
      "execution_count": 11,
      "id": "be62f5f1",
      "metadata": {
        "colab": {
          "base_uri": "https://localhost:8080/",
          "height": 417
        },
        "id": "be62f5f1",
        "outputId": "fc3d795e-161a-4803-ddef-1d3c71b8f8de"
      },
      "outputs": [
        {
          "output_type": "display_data",
          "data": {
            "text/html": [
              "<html>\n",
              "<head><meta charset=\"utf-8\" /></head>\n",
              "<body>\n",
              "    <div>            <script src=\"https://cdnjs.cloudflare.com/ajax/libs/mathjax/2.7.5/MathJax.js?config=TeX-AMS-MML_SVG\"></script><script type=\"text/javascript\">if (window.MathJax) {MathJax.Hub.Config({SVG: {font: \"STIX-Web\"}});}</script>                <script type=\"text/javascript\">window.PlotlyConfig = {MathJaxConfig: 'local'};</script>\n",
              "        <script src=\"https://cdn.plot.ly/plotly-2.8.3.min.js\"></script>                <div id=\"4476562f-674f-4cca-af73-fd366be60269\" class=\"plotly-graph-div\" style=\"height:400px; width:600px;\"></div>            <script type=\"text/javascript\">                                    window.PLOTLYENV=window.PLOTLYENV || {};                                    if (document.getElementById(\"4476562f-674f-4cca-af73-fd366be60269\")) {                    Plotly.newPlot(                        \"4476562f-674f-4cca-af73-fd366be60269\",                        [{\"hovertemplate\":\"Smoker=yes<br>Gender=%{x}<br>Premium=%{y}<extra></extra>\",\"legendgroup\":\"yes\",\"marker\":{\"color\":\"#636efa\",\"symbol\":\"circle\"},\"mode\":\"markers\",\"name\":\"yes\",\"showlegend\":true,\"x\":[\"female\",\"female\",\"male\",\"male\",\"female\",\"male\",\"male\",\"male\",\"male\",\"male\",\"male\",\"male\",\"male\",\"male\",\"male\",\"female\",\"female\",\"male\",\"female\",\"male\",\"female\",\"male\",\"female\",\"male\",\"female\",\"male\",\"male\",\"female\",\"male\",\"male\",\"female\",\"male\",\"female\",\"female\",\"male\",\"male\",\"male\",\"female\",\"male\",\"male\",\"male\",\"female\",\"female\",\"female\",\"male\",\"female\",\"male\",\"male\",\"male\",\"female\",\"male\",\"female\",\"female\",\"male\",\"female\",\"male\",\"male\",\"male\",\"male\",\"female\",\"male\",\"male\",\"male\",\"male\",\"male\",\"female\",\"male\",\"female\",\"male\",\"male\",\"male\",\"male\",\"female\",\"male\",\"female\",\"male\",\"male\",\"female\",\"female\",\"male\",\"male\",\"female\",\"male\",\"female\",\"female\",\"male\",\"female\",\"male\",\"female\",\"female\",\"female\",\"female\",\"male\",\"male\",\"male\",\"female\",\"male\",\"male\",\"female\",\"male\",\"male\",\"male\",\"female\",\"male\",\"male\",\"male\",\"male\",\"male\",\"male\",\"male\",\"female\",\"male\",\"female\",\"female\",\"male\",\"female\",\"female\",\"female\",\"female\",\"female\",\"male\",\"female\",\"male\",\"female\",\"male\",\"male\",\"female\",\"male\",\"male\",\"female\",\"female\",\"male\",\"female\",\"male\",\"female\",\"male\",\"male\",\"male\",\"male\",\"female\",\"female\",\"female\",\"male\",\"female\",\"male\",\"male\",\"male\",\"male\",\"female\",\"female\",\"male\",\"male\",\"female\",\"male\",\"female\",\"male\",\"male\",\"male\",\"female\",\"female\",\"female\",\"male\",\"male\",\"male\",\"female\",\"female\",\"female\",\"female\",\"female\",\"female\",\"female\",\"male\",\"female\",\"female\",\"male\",\"male\",\"female\",\"male\",\"female\",\"male\",\"female\",\"male\",\"female\",\"male\",\"male\",\"male\",\"male\",\"male\",\"male\",\"male\",\"male\",\"male\",\"male\",\"male\",\"female\",\"female\",\"male\",\"male\",\"male\",\"male\",\"female\",\"male\",\"male\",\"female\",\"female\",\"male\",\"male\",\"female\",\"female\",\"male\",\"female\",\"male\",\"male\",\"male\",\"male\",\"male\",\"male\",\"female\",\"male\",\"female\",\"female\",\"female\",\"male\",\"female\",\"male\",\"male\",\"female\",\"female\",\"female\",\"female\",\"male\",\"female\",\"male\",\"male\",\"female\",\"female\",\"male\",\"female\",\"male\",\"female\",\"female\",\"female\",\"male\",\"female\",\"female\",\"female\",\"male\",\"female\",\"male\",\"male\",\"male\",\"male\",\"male\",\"male\",\"male\",\"male\",\"male\",\"female\",\"female\",\"male\",\"male\",\"male\",\"male\",\"male\",\"male\",\"male\",\"female\",\"male\",\"female\",\"female\",\"female\",\"male\",\"female\",\"female\"],\"xaxis\":\"x\",\"y\":[16885,27809,39612,36837,37702,38711,35586,51195,39774,48173,38709,23568,37743,47496,34303,23245,14712,17663,16578,37165,39837,21099,43579,30185,47291,22413,15821,30942,17560,47056,19108,39556,17081,32734,18972,20746,40721,19965,21224,15518,36950,21349,36149,48824,43753,37134,20984,34780,19516,19444,17353,38512,29523,12829,47305,44261,41097,43921,33750,17085,24870,36219,46151,17180,42857,22332,48549,47897,42112,16298,21979,38746,24873,42125,34839,35492,42761,47928,48518,24394,41919,13845,36085,18034,21660,38126,15007,42304,19595,14456,18608,28950,46889,46599,39125,37079,26109,22144,19522,25382,28869,35148,48885,17942,36198,22218,32548,21082,38246,48676,63770,23807,45863,39983,45702,58571,43944,15359,17469,25679,39241,42970,23307,34440,40182,34618,42983,20149,32787,24667,27038,42560,40003,45710,46201,46131,40104,34806,40274,44400,40932,16658,19362,40419,36189,44585,18246,43254,19539,23065,36308,19041,17749,18259,24520,21196,18311,17905,38793,23401,55135,43814,20774,39597,36021,27534,45009,37270,42112,24107,40974,15818,46114,46255,19720,27218,29331,44203,19798,48674,17496,33733,21774,35069,39047,19933,47463,38999,20010,42000,41034,23967,16139,19200,14572,16420,17362,34473,24915,18768,35596,42211,16451,21677,44424,13748,37484,39726,20235,33476,21881,44501,39728,25309,48970,39872,34672,19023,41676,33908,44641,16776,41949,24181,36125,38283,34166,46661,40904,36899,52591,40941,39723,17179,22479,23888,19350,18328,37465,21771,33308,18223,38415,20297,41662,26126,60021,20167,47270,49578,37608,18648,16233,26927,34254,17043,22462,24536,14283,47404,38345,34829,62593,46718,37830,21259,16115,21472,33901,36398,18766,28101,43896,29141],\"yaxis\":\"y\",\"type\":\"scattergl\"},{\"hovertemplate\":\"Smoker=no<br>Gender=%{x}<br>Premium=%{y}<extra></extra>\",\"legendgroup\":\"no\",\"marker\":{\"color\":\"#EF553B\",\"symbol\":\"circle\"},\"mode\":\"markers\",\"name\":\"no\",\"showlegend\":true,\"x\":[\"male\",\"male\",\"male\",\"male\",\"female\",\"female\",\"female\",\"male\",\"female\",\"male\",\"male\",\"female\",\"male\",\"female\",\"male\",\"male\",\"female\",\"female\",\"male\",\"male\",\"female\",\"female\",\"female\",\"male\",\"female\",\"female\",\"male\",\"male\",\"female\",\"male\",\"female\",\"female\",\"male\",\"female\",\"male\",\"male\",\"female\",\"female\",\"female\",\"female\",\"female\",\"female\",\"female\",\"female\",\"male\",\"male\",\"male\",\"female\",\"female\",\"female\",\"male\",\"female\",\"male\",\"female\",\"male\",\"male\",\"male\",\"female\",\"male\",\"female\",\"female\",\"male\",\"female\",\"female\",\"female\",\"female\",\"female\",\"female\",\"female\",\"male\",\"female\",\"female\",\"male\",\"female\",\"male\",\"female\",\"female\",\"female\",\"male\",\"male\",\"male\",\"female\",\"male\",\"female\",\"male\",\"male\",\"male\",\"female\",\"female\",\"male\",\"male\",\"female\",\"female\",\"female\",\"female\",\"male\",\"female\",\"female\",\"female\",\"male\",\"female\",\"female\",\"male\",\"male\",\"female\",\"female\",\"male\",\"male\",\"male\",\"female\",\"female\",\"female\",\"male\",\"male\",\"male\",\"female\",\"female\",\"male\",\"female\",\"male\",\"female\",\"male\",\"male\",\"female\",\"female\",\"female\",\"male\",\"male\",\"male\",\"male\",\"female\",\"female\",\"male\",\"male\",\"female\",\"female\",\"male\",\"female\",\"male\",\"female\",\"male\",\"female\",\"female\",\"female\",\"female\",\"male\",\"female\",\"male\",\"female\",\"male\",\"male\",\"female\",\"female\",\"female\",\"female\",\"female\",\"female\",\"female\",\"male\",\"female\",\"male\",\"female\",\"male\",\"male\",\"male\",\"male\",\"female\",\"female\",\"female\",\"female\",\"male\",\"female\",\"female\",\"female\",\"female\",\"male\",\"male\",\"male\",\"female\",\"female\",\"male\",\"female\",\"female\",\"female\",\"male\",\"male\",\"female\",\"male\",\"male\",\"female\",\"female\",\"male\",\"male\",\"female\",\"male\",\"male\",\"male\",\"male\",\"female\",\"female\",\"male\",\"female\",\"female\",\"female\",\"male\",\"male\",\"male\",\"male\",\"male\",\"male\",\"female\",\"male\",\"female\",\"male\",\"female\",\"male\",\"female\",\"female\",\"male\",\"female\",\"female\",\"male\",\"female\",\"male\",\"female\",\"male\",\"male\",\"female\",\"male\",\"female\",\"female\",\"female\",\"male\",\"female\",\"female\",\"male\",\"female\",\"male\",\"female\",\"male\",\"male\",\"male\",\"male\",\"female\",\"male\",\"male\",\"female\",\"male\",\"male\",\"male\",\"female\",\"male\",\"female\",\"female\",\"female\",\"male\",\"male\",\"male\",\"female\",\"female\",\"male\",\"female\",\"male\",\"female\",\"female\",\"male\",\"male\",\"female\",\"male\",\"female\",\"female\",\"female\",\"male\",\"female\",\"male\",\"male\",\"male\",\"male\",\"female\",\"female\",\"male\",\"female\",\"female\",\"female\",\"female\",\"female\",\"male\",\"male\",\"female\",\"female\",\"female\",\"male\",\"female\",\"male\",\"male\",\"female\",\"male\",\"male\",\"female\",\"male\",\"female\",\"female\",\"male\",\"female\",\"male\",\"male\",\"female\",\"male\",\"female\",\"male\",\"male\",\"female\",\"female\",\"male\",\"female\",\"male\",\"male\",\"female\",\"female\",\"female\",\"male\",\"male\",\"male\",\"male\",\"female\",\"female\",\"male\",\"male\",\"male\",\"male\",\"male\",\"female\",\"female\",\"female\",\"female\",\"male\",\"female\",\"male\",\"female\",\"male\",\"male\",\"male\",\"male\",\"female\",\"male\",\"female\",\"male\",\"female\",\"female\",\"male\",\"female\",\"female\",\"male\",\"male\",\"male\",\"male\",\"male\",\"male\",\"male\",\"female\",\"female\",\"male\",\"female\",\"female\",\"female\",\"male\",\"male\",\"female\",\"female\",\"female\",\"female\",\"male\",\"female\",\"female\",\"female\",\"male\",\"male\",\"male\",\"male\",\"male\",\"female\",\"female\",\"male\",\"female\",\"female\",\"male\",\"male\",\"female\",\"female\",\"female\",\"male\",\"male\",\"female\",\"male\",\"female\",\"female\",\"male\",\"female\",\"male\",\"male\",\"male\",\"female\",\"female\",\"male\",\"male\",\"male\",\"male\",\"male\",\"male\",\"male\",\"female\",\"male\",\"female\",\"female\",\"female\",\"female\",\"female\",\"female\",\"female\",\"male\",\"male\",\"female\",\"male\",\"male\",\"male\",\"male\",\"female\",\"female\",\"female\",\"male\",\"female\",\"female\",\"female\",\"male\",\"male\",\"female\",\"female\",\"male\",\"female\",\"male\",\"female\",\"female\",\"male\",\"male\",\"male\",\"male\",\"female\",\"female\",\"male\",\"male\",\"female\",\"female\",\"female\",\"male\",\"female\",\"female\",\"female\",\"female\",\"female\",\"female\",\"female\",\"male\",\"male\",\"female\",\"male\",\"male\",\"male\",\"female\",\"male\",\"female\",\"male\",\"female\",\"female\",\"female\",\"male\",\"male\",\"male\",\"female\",\"female\",\"female\",\"male\",\"female\",\"female\",\"male\",\"female\",\"female\",\"female\",\"female\",\"male\",\"female\",\"female\",\"female\",\"female\",\"female\",\"female\",\"female\",\"male\",\"female\",\"male\",\"female\",\"male\",\"male\",\"male\",\"male\",\"male\",\"female\",\"male\",\"male\",\"male\",\"female\",\"female\",\"male\",\"male\",\"male\",\"female\",\"male\",\"male\",\"male\",\"female\",\"male\",\"female\",\"female\",\"female\",\"female\",\"female\",\"female\",\"female\",\"male\",\"female\",\"female\",\"male\",\"female\",\"female\",\"male\",\"male\",\"female\",\"male\",\"female\",\"male\",\"female\",\"male\",\"female\",\"male\",\"female\",\"female\",\"male\",\"male\",\"female\",\"male\",\"male\",\"male\",\"female\",\"male\",\"male\",\"male\",\"male\",\"female\",\"female\",\"female\",\"male\",\"female\",\"female\",\"female\",\"male\",\"female\",\"female\",\"female\",\"male\",\"female\",\"female\",\"male\",\"female\",\"female\",\"male\",\"female\",\"male\",\"female\",\"male\",\"female\",\"female\",\"female\",\"male\",\"male\",\"male\",\"female\",\"male\",\"female\",\"female\",\"male\",\"female\",\"female\",\"female\",\"female\",\"male\",\"male\",\"female\",\"male\",\"female\",\"male\",\"male\",\"female\",\"male\",\"male\",\"male\",\"female\",\"male\",\"male\",\"female\",\"male\",\"female\",\"male\",\"male\",\"female\",\"female\",\"male\",\"female\",\"female\",\"female\",\"male\",\"female\",\"female\",\"male\",\"male\",\"male\",\"male\",\"male\",\"male\",\"male\",\"male\",\"female\",\"female\",\"male\",\"male\",\"male\",\"female\",\"female\",\"male\",\"female\",\"female\",\"male\",\"female\",\"female\",\"female\",\"female\",\"male\",\"male\",\"female\",\"female\",\"female\",\"male\",\"male\",\"female\",\"female\",\"male\",\"male\",\"male\",\"female\",\"female\",\"male\",\"male\",\"male\",\"female\",\"female\",\"male\",\"female\",\"male\",\"male\",\"female\",\"female\",\"male\",\"male\",\"male\",\"male\",\"female\",\"female\",\"female\",\"male\",\"male\",\"male\",\"female\",\"male\",\"female\",\"male\",\"male\",\"female\",\"female\",\"female\",\"male\",\"female\",\"female\",\"female\",\"male\",\"male\",\"male\",\"male\",\"male\",\"female\",\"male\",\"female\",\"male\",\"male\",\"male\",\"female\",\"female\",\"male\",\"male\",\"female\",\"male\",\"male\",\"female\",\"male\",\"female\",\"male\",\"male\",\"female\",\"male\",\"male\",\"female\",\"male\",\"female\",\"female\",\"male\",\"male\",\"male\",\"female\",\"female\",\"male\",\"female\",\"male\",\"male\",\"female\",\"female\",\"male\",\"female\",\"female\",\"female\",\"female\",\"female\",\"male\",\"male\",\"male\",\"male\",\"female\",\"female\",\"female\",\"male\",\"male\",\"female\",\"male\",\"female\",\"male\",\"female\",\"male\",\"female\",\"male\",\"male\",\"male\",\"female\",\"female\",\"male\",\"male\",\"female\",\"male\",\"male\",\"male\",\"female\",\"male\",\"male\",\"male\",\"female\",\"female\",\"female\",\"male\",\"male\",\"male\",\"male\",\"male\",\"female\",\"female\",\"female\",\"female\",\"female\",\"male\",\"male\",\"male\",\"female\",\"female\",\"male\",\"male\",\"female\",\"male\",\"female\",\"male\",\"female\",\"male\",\"female\",\"female\",\"female\",\"male\",\"female\",\"female\",\"female\",\"female\",\"female\",\"male\",\"male\",\"male\",\"male\",\"male\",\"male\",\"male\",\"female\",\"female\",\"male\",\"female\",\"male\",\"female\",\"female\",\"female\",\"female\",\"male\",\"male\",\"female\",\"female\",\"male\",\"male\",\"female\",\"female\",\"male\",\"female\",\"male\",\"male\",\"male\",\"female\",\"male\",\"female\",\"female\",\"female\",\"male\",\"male\",\"female\",\"male\",\"female\",\"female\",\"female\",\"male\",\"male\",\"male\",\"male\",\"female\",\"female\",\"male\",\"male\",\"male\",\"female\",\"male\",\"male\",\"female\",\"female\",\"female\",\"female\",\"male\",\"male\",\"male\",\"male\",\"male\",\"male\",\"female\",\"male\",\"male\",\"male\",\"male\",\"female\",\"male\",\"female\",\"female\",\"male\",\"female\",\"female\",\"male\",\"male\",\"male\",\"male\",\"female\",\"female\",\"female\",\"male\",\"male\",\"female\",\"female\",\"male\",\"male\",\"male\",\"female\",\"male\",\"female\",\"female\",\"male\",\"female\",\"male\",\"female\",\"female\",\"male\",\"male\",\"female\",\"male\",\"female\",\"female\",\"female\",\"male\",\"male\",\"female\",\"female\",\"male\",\"male\",\"male\",\"female\",\"male\",\"male\",\"female\",\"female\",\"female\",\"female\",\"female\",\"female\",\"female\",\"female\",\"female\",\"male\",\"male\",\"female\",\"female\",\"female\",\"male\",\"female\",\"male\",\"female\",\"female\",\"male\",\"male\",\"female\",\"female\",\"female\",\"female\",\"female\",\"female\",\"female\",\"male\",\"female\",\"female\",\"female\",\"female\",\"female\",\"female\",\"female\",\"female\",\"male\",\"male\",\"female\",\"male\",\"male\",\"male\",\"male\",\"male\",\"female\",\"male\",\"male\",\"male\",\"male\",\"female\",\"female\",\"male\",\"male\",\"male\",\"female\",\"female\",\"male\",\"male\",\"male\",\"female\",\"male\",\"male\",\"male\",\"male\",\"female\",\"male\",\"female\",\"male\",\"female\",\"female\",\"male\",\"female\",\"female\",\"female\",\"male\",\"male\",\"female\",\"male\",\"female\",\"male\",\"female\",\"female\",\"female\",\"female\",\"female\",\"male\",\"female\",\"female\",\"male\",\"female\",\"female\",\"female\",\"female\",\"female\",\"male\",\"male\",\"female\",\"male\",\"male\",\"male\",\"female\",\"female\",\"female\",\"female\",\"male\",\"female\",\"female\",\"female\",\"male\",\"female\",\"male\",\"male\",\"male\",\"male\",\"male\",\"female\",\"male\",\"female\",\"female\",\"female\",\"male\",\"male\",\"female\",\"male\",\"male\",\"female\",\"male\",\"male\",\"female\",\"male\",\"male\",\"male\",\"male\",\"female\",\"male\",\"female\",\"male\",\"female\",\"female\",\"female\",\"male\",\"female\",\"female\",\"female\"],\"xaxis\":\"x\",\"y\":[1726,4449,21984,3867,3757,8241,7282,6406,28923,2721,1827,11091,1837,10797,2395,10602,13229,4150,1137,6204,14001,14452,12269,2775,2198,4688,13770,1625,15612,2302,3046,4950,6272,6314,6080,20630,3393,3557,12630,2211,3580,8060,13607,5990,8606,4505,30167,4134,1743,14235,6389,5920,6799,11742,11947,7727,11357,3947,1532,2755,6571,4441,7935,11034,11073,8027,11083,2027,10942,5729,3767,12105,10226,6186,3645,21345,5004,2332,3877,2867,10825,11881,4647,2405,11488,30260,11381,8601,6686,7740,1706,2257,10115,3385,9635,6082,12815,13616,11164,1633,2457,2156,1261,2046,27323,2167,27376,3491,18158,5138,9878,10960,1843,5125,7790,6334,7077,6949,19749,10451,5152,5028,10407,4831,6129,2719,4828,13405,8117,1695,5246,2855,6456,10436,8823,8538,11736,1632,4005,7419,7731,3982,5326,6776,4923,12558,4884,2138,12044,1137,1640,5650,8517,9644,14902,2131,8871,13012,7147,4338,11743,13881,6610,1980,8163,3538,5003,8520,7372,10356,2484,3393,25082,5012,10565,5254,11987,2689,24227,7358,9225,7444,14001,1728,12334,6710,1616,4463,7153,5354,35160,7197,24476,12649,1987,1832,4041,4261,13047,5401,11520,11837,20463,14591,7441,9282,1719,7266,9618,2523,9716,2804,2150,12929,9855,4237,11879,9626,7742,9433,14256,25993,3172,20278,2157,3906,1705,9249,6747,12266,4349,12646,19442,20178,4151,11945,7749,8444,1737,8124,9723,8835,10435,7421,4668,4895,24672,11566,2866,6600,3562,9145,13429,11658,19145,13823,12143,13938,8233,18955,13352,13217,13982,10977,6184,4890,8334,5478,1636,11831,8932,3554,12405,14133,24603,8944,9620,1837,1608,10043,4751,2598,3181,9778,13430,8017,8116,3482,13415,12029,7639,1392,16456,27001,20781,5847,8303,1262,11856,30285,3177,4618,10737,2138,8964,9290,9411,7527,8522,16586,14988,1632,9265,8084,14693,10269,3260,11397,4185,8540,6653,4074,1621,5080,2135,7346,9141,14418,2727,8968,9789,6555,7324,3167,18805,23083,4906,5970,12638,4244,13920,2255,5927,12593,2897,4738,1149,28288,7345,12731,11454,5911,4762,7512,4032,1970,1770,4686,21797,11882,11841,10601,7683,10381,15230,11165,1632,13225,12643,23289,2201,2497,2203,1744,20879,2534,1534,1824,15555,9305,1622,9880,9563,4347,12475,1254,10462,1749,24513,2196,12574,1967,4932,8028,8211,13471,6837,5974,6797,2643,3077,3044,11455,11763,2498,9361,1256,11363,27724,8413,5241,3858,25657,3994,9866,5398,11483,24060,9861,8343,1708,14043,12926,19215,13831,6067,5972,8825,8233,27346,6196,3056,13887,10231,3269,11538,3214,13391,3973,12957,11188,17879,3848,8335,3935,1646,9194,10924,2494,9059,2801,2128,6374,7257,11553,3761,2219,4754,31620,13224,12223,1665,9725,3206,12914,1640,6356,17626,1243,4780,3861,13636,5977,11842,8428,2566,5709,8824,7640,5595,7442,33472,1633,9174,11071,16085,9284,3559,4435,8548,6572,2208,6753,1880,11658,10714,3659,9182,12130,3736,6749,11327,11366,10086,1978,3367,7173,9391,14411,2709,24915,12949,6666,13144,4467,18806,10141,6124,8252,1712,12431,9801,10580,8281,8528,12245,3410,4059,26392,14394,6436,22192,5149,1136,8703,6500,4838,3944,4400,6185,7223,12486,12364,10157,2585,1242,9863,4766,11244,7730,5439,26237,2104,8068,2362,2353,3578,3201,29186,10976,3501,2021,9542,9504,5385,8931,5375,10264,6113,5469,1728,10107,8311,1984,2458,12147,9567,13113,10848,12232,9876,11265,12979,1263,10106,6665,2218,6781,10065,4235,9447,14007,9584,3484,8604,3758,8827,9910,11738,1627,8557,3063,1906,14211,11834,17128,5031,7986,5429,3926,2417,3071,9095,11843,8063,7051,14319,6933,27941,11151,12797,7262,10560,6987,7448,5934,9870,1147,9386,4351,6414,12741,1917,5210,13458,5662,1252,2732,7209,4266,4720,11848,7047,14314,2103,1816,7732,28477,2137,1132,3310,9415,6361,11014,4429,5584,1878,2843,3598,7446,2681,1622,8219,12524,16069,6117,13394,5266,4720,11744,5377,7160,4402,11658,6402,12622,1526,12324,10072,9873,2438,2974,10602,14120,11730,1875,18218,10965,7151,12270,5458,8782,6600,1141,11576,13130,4392,8458,3392,5967,6849,8891,2690,26140,6654,6282,6312,3443,2789,2586,4878,5272,1683,11945,7244,10423,13555,13064,2222,1635,2117,8689,4661,8126,12645,4564,4847,7634,15170,2639,14383,7627,5258,2473,13042,5245,13451,13463,5488,4320,6250,25333,2914,12032,13471,6290,2927,6238,10097,7348,4673,12234,32109,8966,2304,9488,1122,9550,2217,1628,12983,11674,7160,6359,11535,4527,3876,12610,28469,2730,3353,14475,9501,26467,4746,7518,3280,8597,10703,4992,2528,1759,2323,7804,2903,9705,4889,25517,4500,16796,4915,7625,8410,28340,4519,3379,7145,10118,5484,7986,7419,13888,6552,5268,1973,21232,8628,4433,4438,23241,9958,8269,36580,8765,5384,12125,2709,3988,12495,26019,8799,1711,8570,2020,21595,9850,6878,4138,12950,12094,2251,22494,1705,3161,11394,7325,3594,8023,14395,9288,3353,10595,8278,17929,2481,4463,1982,11554,6548,5709,7045,8978,5757,14350,10929,13974,1910,12097,13204,4563,8551,2102,15162,11884,4454,5856,4076,15020,10796,11353,9749,10577,11287,3591,11299,4561,1675,23046,3227,11253,3471,11363,20421,10339,8988,10494,2904,8605,11512,5312,2396,10807,9222,5693,8347,18903,14255,10215,5837,14358,1729,8582,3693,20709,9991,19673,11086,7624,3176,3704,9048,7955,27118,6338,9630,11289,2262,10792,5980,2204,12236,5630,11015,7228,14426,2460,3990,7727,5124,18963,2201,7154,5228,10983,4529,4671,6112,11094,6458,4434,2154,6497,2899,7651,2851,2633,9447,8604,13845,13127,5327,13725,13019,8671,4134,18839,5700,6394,4935,6199,8733,2055,9964,5117,36911,12347,5373,23563,1702,10807,3956,12890,5416,4058,7537,4718,6594,8443,6858,4796,6641,7162,10594,11938,12480,11346,8516,2700,14450,12224,6986,3238,4296,3172,1136,5615,9102,6059,1634,1242,15829,4415,6474,11437,11306,30064,10198,4544,3277,6770,7338,10371,10704,1880,8615,3293,3022,14478,4747,10959,2742,4357,4189,8284,1720,8535,3733,5472,7147,7134,1515,9302,11931,1965,1709,4340,5261,2711,3209,2465,6876,6941,4571,4536,11272,1732,1163,19497,7202,5425,12981,4240,13143,7050,9378,22396,10325,12629,10796,11412,10601,2206,1630,2008],\"yaxis\":\"y\",\"type\":\"scattergl\"}],                        {\"template\":{\"data\":{\"bar\":[{\"error_x\":{\"color\":\"#2a3f5f\"},\"error_y\":{\"color\":\"#2a3f5f\"},\"marker\":{\"line\":{\"color\":\"#E5ECF6\",\"width\":0.5},\"pattern\":{\"fillmode\":\"overlay\",\"size\":10,\"solidity\":0.2}},\"type\":\"bar\"}],\"barpolar\":[{\"marker\":{\"line\":{\"color\":\"#E5ECF6\",\"width\":0.5},\"pattern\":{\"fillmode\":\"overlay\",\"size\":10,\"solidity\":0.2}},\"type\":\"barpolar\"}],\"carpet\":[{\"aaxis\":{\"endlinecolor\":\"#2a3f5f\",\"gridcolor\":\"white\",\"linecolor\":\"white\",\"minorgridcolor\":\"white\",\"startlinecolor\":\"#2a3f5f\"},\"baxis\":{\"endlinecolor\":\"#2a3f5f\",\"gridcolor\":\"white\",\"linecolor\":\"white\",\"minorgridcolor\":\"white\",\"startlinecolor\":\"#2a3f5f\"},\"type\":\"carpet\"}],\"choropleth\":[{\"colorbar\":{\"outlinewidth\":0,\"ticks\":\"\"},\"type\":\"choropleth\"}],\"contour\":[{\"colorbar\":{\"outlinewidth\":0,\"ticks\":\"\"},\"colorscale\":[[0.0,\"#0d0887\"],[0.1111111111111111,\"#46039f\"],[0.2222222222222222,\"#7201a8\"],[0.3333333333333333,\"#9c179e\"],[0.4444444444444444,\"#bd3786\"],[0.5555555555555556,\"#d8576b\"],[0.6666666666666666,\"#ed7953\"],[0.7777777777777778,\"#fb9f3a\"],[0.8888888888888888,\"#fdca26\"],[1.0,\"#f0f921\"]],\"type\":\"contour\"}],\"contourcarpet\":[{\"colorbar\":{\"outlinewidth\":0,\"ticks\":\"\"},\"type\":\"contourcarpet\"}],\"heatmap\":[{\"colorbar\":{\"outlinewidth\":0,\"ticks\":\"\"},\"colorscale\":[[0.0,\"#0d0887\"],[0.1111111111111111,\"#46039f\"],[0.2222222222222222,\"#7201a8\"],[0.3333333333333333,\"#9c179e\"],[0.4444444444444444,\"#bd3786\"],[0.5555555555555556,\"#d8576b\"],[0.6666666666666666,\"#ed7953\"],[0.7777777777777778,\"#fb9f3a\"],[0.8888888888888888,\"#fdca26\"],[1.0,\"#f0f921\"]],\"type\":\"heatmap\"}],\"heatmapgl\":[{\"colorbar\":{\"outlinewidth\":0,\"ticks\":\"\"},\"colorscale\":[[0.0,\"#0d0887\"],[0.1111111111111111,\"#46039f\"],[0.2222222222222222,\"#7201a8\"],[0.3333333333333333,\"#9c179e\"],[0.4444444444444444,\"#bd3786\"],[0.5555555555555556,\"#d8576b\"],[0.6666666666666666,\"#ed7953\"],[0.7777777777777778,\"#fb9f3a\"],[0.8888888888888888,\"#fdca26\"],[1.0,\"#f0f921\"]],\"type\":\"heatmapgl\"}],\"histogram\":[{\"marker\":{\"pattern\":{\"fillmode\":\"overlay\",\"size\":10,\"solidity\":0.2}},\"type\":\"histogram\"}],\"histogram2d\":[{\"colorbar\":{\"outlinewidth\":0,\"ticks\":\"\"},\"colorscale\":[[0.0,\"#0d0887\"],[0.1111111111111111,\"#46039f\"],[0.2222222222222222,\"#7201a8\"],[0.3333333333333333,\"#9c179e\"],[0.4444444444444444,\"#bd3786\"],[0.5555555555555556,\"#d8576b\"],[0.6666666666666666,\"#ed7953\"],[0.7777777777777778,\"#fb9f3a\"],[0.8888888888888888,\"#fdca26\"],[1.0,\"#f0f921\"]],\"type\":\"histogram2d\"}],\"histogram2dcontour\":[{\"colorbar\":{\"outlinewidth\":0,\"ticks\":\"\"},\"colorscale\":[[0.0,\"#0d0887\"],[0.1111111111111111,\"#46039f\"],[0.2222222222222222,\"#7201a8\"],[0.3333333333333333,\"#9c179e\"],[0.4444444444444444,\"#bd3786\"],[0.5555555555555556,\"#d8576b\"],[0.6666666666666666,\"#ed7953\"],[0.7777777777777778,\"#fb9f3a\"],[0.8888888888888888,\"#fdca26\"],[1.0,\"#f0f921\"]],\"type\":\"histogram2dcontour\"}],\"mesh3d\":[{\"colorbar\":{\"outlinewidth\":0,\"ticks\":\"\"},\"type\":\"mesh3d\"}],\"parcoords\":[{\"line\":{\"colorbar\":{\"outlinewidth\":0,\"ticks\":\"\"}},\"type\":\"parcoords\"}],\"pie\":[{\"automargin\":true,\"type\":\"pie\"}],\"scatter\":[{\"marker\":{\"colorbar\":{\"outlinewidth\":0,\"ticks\":\"\"}},\"type\":\"scatter\"}],\"scatter3d\":[{\"line\":{\"colorbar\":{\"outlinewidth\":0,\"ticks\":\"\"}},\"marker\":{\"colorbar\":{\"outlinewidth\":0,\"ticks\":\"\"}},\"type\":\"scatter3d\"}],\"scattercarpet\":[{\"marker\":{\"colorbar\":{\"outlinewidth\":0,\"ticks\":\"\"}},\"type\":\"scattercarpet\"}],\"scattergeo\":[{\"marker\":{\"colorbar\":{\"outlinewidth\":0,\"ticks\":\"\"}},\"type\":\"scattergeo\"}],\"scattergl\":[{\"marker\":{\"colorbar\":{\"outlinewidth\":0,\"ticks\":\"\"}},\"type\":\"scattergl\"}],\"scattermapbox\":[{\"marker\":{\"colorbar\":{\"outlinewidth\":0,\"ticks\":\"\"}},\"type\":\"scattermapbox\"}],\"scatterpolar\":[{\"marker\":{\"colorbar\":{\"outlinewidth\":0,\"ticks\":\"\"}},\"type\":\"scatterpolar\"}],\"scatterpolargl\":[{\"marker\":{\"colorbar\":{\"outlinewidth\":0,\"ticks\":\"\"}},\"type\":\"scatterpolargl\"}],\"scatterternary\":[{\"marker\":{\"colorbar\":{\"outlinewidth\":0,\"ticks\":\"\"}},\"type\":\"scatterternary\"}],\"surface\":[{\"colorbar\":{\"outlinewidth\":0,\"ticks\":\"\"},\"colorscale\":[[0.0,\"#0d0887\"],[0.1111111111111111,\"#46039f\"],[0.2222222222222222,\"#7201a8\"],[0.3333333333333333,\"#9c179e\"],[0.4444444444444444,\"#bd3786\"],[0.5555555555555556,\"#d8576b\"],[0.6666666666666666,\"#ed7953\"],[0.7777777777777778,\"#fb9f3a\"],[0.8888888888888888,\"#fdca26\"],[1.0,\"#f0f921\"]],\"type\":\"surface\"}],\"table\":[{\"cells\":{\"fill\":{\"color\":\"#EBF0F8\"},\"line\":{\"color\":\"white\"}},\"header\":{\"fill\":{\"color\":\"#C8D4E3\"},\"line\":{\"color\":\"white\"}},\"type\":\"table\"}]},\"layout\":{\"annotationdefaults\":{\"arrowcolor\":\"#2a3f5f\",\"arrowhead\":0,\"arrowwidth\":1},\"autotypenumbers\":\"strict\",\"coloraxis\":{\"colorbar\":{\"outlinewidth\":0,\"ticks\":\"\"}},\"colorscale\":{\"diverging\":[[0,\"#8e0152\"],[0.1,\"#c51b7d\"],[0.2,\"#de77ae\"],[0.3,\"#f1b6da\"],[0.4,\"#fde0ef\"],[0.5,\"#f7f7f7\"],[0.6,\"#e6f5d0\"],[0.7,\"#b8e186\"],[0.8,\"#7fbc41\"],[0.9,\"#4d9221\"],[1,\"#276419\"]],\"sequential\":[[0.0,\"#0d0887\"],[0.1111111111111111,\"#46039f\"],[0.2222222222222222,\"#7201a8\"],[0.3333333333333333,\"#9c179e\"],[0.4444444444444444,\"#bd3786\"],[0.5555555555555556,\"#d8576b\"],[0.6666666666666666,\"#ed7953\"],[0.7777777777777778,\"#fb9f3a\"],[0.8888888888888888,\"#fdca26\"],[1.0,\"#f0f921\"]],\"sequentialminus\":[[0.0,\"#0d0887\"],[0.1111111111111111,\"#46039f\"],[0.2222222222222222,\"#7201a8\"],[0.3333333333333333,\"#9c179e\"],[0.4444444444444444,\"#bd3786\"],[0.5555555555555556,\"#d8576b\"],[0.6666666666666666,\"#ed7953\"],[0.7777777777777778,\"#fb9f3a\"],[0.8888888888888888,\"#fdca26\"],[1.0,\"#f0f921\"]]},\"colorway\":[\"#636efa\",\"#EF553B\",\"#00cc96\",\"#ab63fa\",\"#FFA15A\",\"#19d3f3\",\"#FF6692\",\"#B6E880\",\"#FF97FF\",\"#FECB52\"],\"font\":{\"color\":\"#2a3f5f\"},\"geo\":{\"bgcolor\":\"white\",\"lakecolor\":\"white\",\"landcolor\":\"#E5ECF6\",\"showlakes\":true,\"showland\":true,\"subunitcolor\":\"white\"},\"hoverlabel\":{\"align\":\"left\"},\"hovermode\":\"closest\",\"mapbox\":{\"style\":\"light\"},\"paper_bgcolor\":\"white\",\"plot_bgcolor\":\"#E5ECF6\",\"polar\":{\"angularaxis\":{\"gridcolor\":\"white\",\"linecolor\":\"white\",\"ticks\":\"\"},\"bgcolor\":\"#E5ECF6\",\"radialaxis\":{\"gridcolor\":\"white\",\"linecolor\":\"white\",\"ticks\":\"\"}},\"scene\":{\"xaxis\":{\"backgroundcolor\":\"#E5ECF6\",\"gridcolor\":\"white\",\"gridwidth\":2,\"linecolor\":\"white\",\"showbackground\":true,\"ticks\":\"\",\"zerolinecolor\":\"white\"},\"yaxis\":{\"backgroundcolor\":\"#E5ECF6\",\"gridcolor\":\"white\",\"gridwidth\":2,\"linecolor\":\"white\",\"showbackground\":true,\"ticks\":\"\",\"zerolinecolor\":\"white\"},\"zaxis\":{\"backgroundcolor\":\"#E5ECF6\",\"gridcolor\":\"white\",\"gridwidth\":2,\"linecolor\":\"white\",\"showbackground\":true,\"ticks\":\"\",\"zerolinecolor\":\"white\"}},\"shapedefaults\":{\"line\":{\"color\":\"#2a3f5f\"}},\"ternary\":{\"aaxis\":{\"gridcolor\":\"white\",\"linecolor\":\"white\",\"ticks\":\"\"},\"baxis\":{\"gridcolor\":\"white\",\"linecolor\":\"white\",\"ticks\":\"\"},\"bgcolor\":\"#E5ECF6\",\"caxis\":{\"gridcolor\":\"white\",\"linecolor\":\"white\",\"ticks\":\"\"}},\"title\":{\"x\":0.05},\"xaxis\":{\"automargin\":true,\"gridcolor\":\"white\",\"linecolor\":\"white\",\"ticks\":\"\",\"title\":{\"standoff\":15},\"zerolinecolor\":\"white\",\"zerolinewidth\":2},\"yaxis\":{\"automargin\":true,\"gridcolor\":\"white\",\"linecolor\":\"white\",\"ticks\":\"\",\"title\":{\"standoff\":15},\"zerolinecolor\":\"white\",\"zerolinewidth\":2}}},\"xaxis\":{\"anchor\":\"y\",\"domain\":[0.0,1.0],\"title\":{\"text\":\"Gender\"}},\"yaxis\":{\"anchor\":\"x\",\"domain\":[0.0,1.0],\"title\":{\"text\":\"Premium\"}},\"legend\":{\"title\":{\"text\":\"Smoker\"},\"tracegroupgap\":0},\"margin\":{\"t\":60},\"height\":400,\"width\":600},                        {\"responsive\": true}                    ).then(function(){\n",
              "                            \n",
              "var gd = document.getElementById('4476562f-674f-4cca-af73-fd366be60269');\n",
              "var x = new MutationObserver(function (mutations, observer) {{\n",
              "        var display = window.getComputedStyle(gd).display;\n",
              "        if (!display || display === 'none') {{\n",
              "            console.log([gd, 'removed!']);\n",
              "            Plotly.purge(gd);\n",
              "            observer.disconnect();\n",
              "        }}\n",
              "}});\n",
              "\n",
              "// Listen for the removal of the full notebook cells\n",
              "var notebookContainer = gd.closest('#notebook-container');\n",
              "if (notebookContainer) {{\n",
              "    x.observe(notebookContainer, {childList: true});\n",
              "}}\n",
              "\n",
              "// Listen for the clearing of the current output cell\n",
              "var outputEl = gd.closest('.output');\n",
              "if (outputEl) {{\n",
              "    x.observe(outputEl, {childList: true});\n",
              "}}\n",
              "\n",
              "                        })                };                            </script>        </div>\n",
              "</body>\n",
              "</html>"
            ]
          },
          "metadata": {}
        }
      ],
      "source": [
        "fig=px.scatter(df, x='Gender', y='Premium', color='Smoker', width=600, height=400)\n",
        "fig.show()"
      ]
    },
    {
      "cell_type": "markdown",
      "id": "d643a2de",
      "metadata": {
        "id": "d643a2de"
      },
      "source": [
        "In both of the gender groups, it is commonly noted that people who are smoker have high premium due to possible diseases and problems they can get by smoking while in other group who are not smoker: people have low premium"
      ]
    },
    {
      "cell_type": "code",
      "execution_count": 12,
      "id": "aa80505f",
      "metadata": {
        "scrolled": true,
        "colab": {
          "base_uri": "https://localhost:8080/",
          "height": 238
        },
        "id": "aa80505f",
        "outputId": "1febc4b0-612a-4069-c688-caa0e5012e24"
      },
      "outputs": [
        {
          "output_type": "execute_result",
          "data": {
            "text/html": [
              "\n",
              "  <div id=\"df-158a06bb-bbe1-4718-95dd-4f5c997faa81\">\n",
              "    <div class=\"colab-df-container\">\n",
              "      <div>\n",
              "<style scoped>\n",
              "    .dataframe tbody tr th:only-of-type {\n",
              "        vertical-align: middle;\n",
              "    }\n",
              "\n",
              "    .dataframe tbody tr th {\n",
              "        vertical-align: top;\n",
              "    }\n",
              "\n",
              "    .dataframe thead th {\n",
              "        text-align: right;\n",
              "    }\n",
              "</style>\n",
              "<table border=\"1\" class=\"dataframe\">\n",
              "  <thead>\n",
              "    <tr style=\"text-align: right;\">\n",
              "      <th></th>\n",
              "      <th>Age</th>\n",
              "      <th>Gender</th>\n",
              "      <th>BMI</th>\n",
              "      <th>Children</th>\n",
              "      <th>Smoker</th>\n",
              "      <th>Region</th>\n",
              "      <th>Premium</th>\n",
              "    </tr>\n",
              "    <tr>\n",
              "      <th>ID</th>\n",
              "      <th></th>\n",
              "      <th></th>\n",
              "      <th></th>\n",
              "      <th></th>\n",
              "      <th></th>\n",
              "      <th></th>\n",
              "      <th></th>\n",
              "    </tr>\n",
              "  </thead>\n",
              "  <tbody>\n",
              "    <tr>\n",
              "      <th>1</th>\n",
              "      <td>1</td>\n",
              "      <td>0</td>\n",
              "      <td>197</td>\n",
              "      <td>0</td>\n",
              "      <td>1</td>\n",
              "      <td>2</td>\n",
              "      <td>964</td>\n",
              "    </tr>\n",
              "    <tr>\n",
              "      <th>2</th>\n",
              "      <td>0</td>\n",
              "      <td>1</td>\n",
              "      <td>350</td>\n",
              "      <td>1</td>\n",
              "      <td>0</td>\n",
              "      <td>0</td>\n",
              "      <td>49</td>\n",
              "    </tr>\n",
              "    <tr>\n",
              "      <th>3</th>\n",
              "      <td>10</td>\n",
              "      <td>1</td>\n",
              "      <td>331</td>\n",
              "      <td>3</td>\n",
              "      <td>0</td>\n",
              "      <td>0</td>\n",
              "      <td>288</td>\n",
              "    </tr>\n",
              "    <tr>\n",
              "      <th>4</th>\n",
              "      <td>15</td>\n",
              "      <td>1</td>\n",
              "      <td>73</td>\n",
              "      <td>0</td>\n",
              "      <td>0</td>\n",
              "      <td>3</td>\n",
              "      <td>1056</td>\n",
              "    </tr>\n",
              "    <tr>\n",
              "      <th>5</th>\n",
              "      <td>14</td>\n",
              "      <td>1</td>\n",
              "      <td>223</td>\n",
              "      <td>0</td>\n",
              "      <td>0</td>\n",
              "      <td>3</td>\n",
              "      <td>237</td>\n",
              "    </tr>\n",
              "  </tbody>\n",
              "</table>\n",
              "</div>\n",
              "      <button class=\"colab-df-convert\" onclick=\"convertToInteractive('df-158a06bb-bbe1-4718-95dd-4f5c997faa81')\"\n",
              "              title=\"Convert this dataframe to an interactive table.\"\n",
              "              style=\"display:none;\">\n",
              "        \n",
              "  <svg xmlns=\"http://www.w3.org/2000/svg\" height=\"24px\"viewBox=\"0 0 24 24\"\n",
              "       width=\"24px\">\n",
              "    <path d=\"M0 0h24v24H0V0z\" fill=\"none\"/>\n",
              "    <path d=\"M18.56 5.44l.94 2.06.94-2.06 2.06-.94-2.06-.94-.94-2.06-.94 2.06-2.06.94zm-11 1L8.5 8.5l.94-2.06 2.06-.94-2.06-.94L8.5 2.5l-.94 2.06-2.06.94zm10 10l.94 2.06.94-2.06 2.06-.94-2.06-.94-.94-2.06-.94 2.06-2.06.94z\"/><path d=\"M17.41 7.96l-1.37-1.37c-.4-.4-.92-.59-1.43-.59-.52 0-1.04.2-1.43.59L10.3 9.45l-7.72 7.72c-.78.78-.78 2.05 0 2.83L4 21.41c.39.39.9.59 1.41.59.51 0 1.02-.2 1.41-.59l7.78-7.78 2.81-2.81c.8-.78.8-2.07 0-2.86zM5.41 20L4 18.59l7.72-7.72 1.47 1.35L5.41 20z\"/>\n",
              "  </svg>\n",
              "      </button>\n",
              "      \n",
              "  <style>\n",
              "    .colab-df-container {\n",
              "      display:flex;\n",
              "      flex-wrap:wrap;\n",
              "      gap: 12px;\n",
              "    }\n",
              "\n",
              "    .colab-df-convert {\n",
              "      background-color: #E8F0FE;\n",
              "      border: none;\n",
              "      border-radius: 50%;\n",
              "      cursor: pointer;\n",
              "      display: none;\n",
              "      fill: #1967D2;\n",
              "      height: 32px;\n",
              "      padding: 0 0 0 0;\n",
              "      width: 32px;\n",
              "    }\n",
              "\n",
              "    .colab-df-convert:hover {\n",
              "      background-color: #E2EBFA;\n",
              "      box-shadow: 0px 1px 2px rgba(60, 64, 67, 0.3), 0px 1px 3px 1px rgba(60, 64, 67, 0.15);\n",
              "      fill: #174EA6;\n",
              "    }\n",
              "\n",
              "    [theme=dark] .colab-df-convert {\n",
              "      background-color: #3B4455;\n",
              "      fill: #D2E3FC;\n",
              "    }\n",
              "\n",
              "    [theme=dark] .colab-df-convert:hover {\n",
              "      background-color: #434B5C;\n",
              "      box-shadow: 0px 1px 3px 1px rgba(0, 0, 0, 0.15);\n",
              "      filter: drop-shadow(0px 1px 2px rgba(0, 0, 0, 0.3));\n",
              "      fill: #FFFFFF;\n",
              "    }\n",
              "  </style>\n",
              "\n",
              "      <script>\n",
              "        const buttonEl =\n",
              "          document.querySelector('#df-158a06bb-bbe1-4718-95dd-4f5c997faa81 button.colab-df-convert');\n",
              "        buttonEl.style.display =\n",
              "          google.colab.kernel.accessAllowed ? 'block' : 'none';\n",
              "\n",
              "        async function convertToInteractive(key) {\n",
              "          const element = document.querySelector('#df-158a06bb-bbe1-4718-95dd-4f5c997faa81');\n",
              "          const dataTable =\n",
              "            await google.colab.kernel.invokeFunction('convertToInteractive',\n",
              "                                                     [key], {});\n",
              "          if (!dataTable) return;\n",
              "\n",
              "          const docLinkHtml = 'Like what you see? Visit the ' +\n",
              "            '<a target=\"_blank\" href=https://colab.research.google.com/notebooks/data_table.ipynb>data table notebook</a>'\n",
              "            + ' to learn more about interactive tables.';\n",
              "          element.innerHTML = '';\n",
              "          dataTable['output_type'] = 'display_data';\n",
              "          await google.colab.output.renderOutput(dataTable, element);\n",
              "          const docLink = document.createElement('div');\n",
              "          docLink.innerHTML = docLinkHtml;\n",
              "          element.appendChild(docLink);\n",
              "        }\n",
              "      </script>\n",
              "    </div>\n",
              "  </div>\n",
              "  "
            ],
            "text/plain": [
              "    Age  Gender  BMI  Children  Smoker  Region  Premium\n",
              "ID                                                     \n",
              "1     1       0  197         0       1       2      964\n",
              "2     0       1  350         1       0       0       49\n",
              "3    10       1  331         3       0       0      288\n",
              "4    15       1   73         0       0       3     1056\n",
              "5    14       1  223         0       0       3      237"
            ]
          },
          "metadata": {},
          "execution_count": 12
        }
      ],
      "source": [
        "le=LabelEncoder()\n",
        "df=df.apply(le.fit_transform)\n",
        "df.head()"
      ]
    },
    {
      "cell_type": "markdown",
      "id": "0ce7c640",
      "metadata": {
        "id": "0ce7c640"
      },
      "source": [
        "## GENDER\n",
        "            1: female\n",
        "            0: male\n",
        "## SMOKER\n",
        "            1: Yes\n",
        "            0: No\n",
        "            \n",
        "## Region\n",
        "            0:East\n",
        "            1:North\n",
        "            2:South\n",
        "            3:West"
      ]
    },
    {
      "cell_type": "code",
      "execution_count": 13,
      "id": "86958520",
      "metadata": {
        "colab": {
          "base_uri": "https://localhost:8080/",
          "height": 342
        },
        "id": "86958520",
        "outputId": "67d76530-fcaf-47fd-b04f-a8d1c77ea70a"
      },
      "outputs": [
        {
          "output_type": "execute_result",
          "data": {
            "text/plain": [
              "<matplotlib.axes._subplots.AxesSubplot at 0x7f094f531e90>"
            ]
          },
          "metadata": {},
          "execution_count": 13
        },
        {
          "output_type": "display_data",
          "data": {
            "image/png": "[encoded data removed]",
            "text/plain": [
              "<Figure size 504x360 with 2 Axes>"
            ]
          },
          "metadata": {
            "needs_background": "light"
          }
        }
      ],
      "source": [
        "plt.figure(figsize=(7,5))\n",
        "sns.heatmap(df.corr(), annot=True)"
      ]
    },
    {
      "cell_type": "code",
      "execution_count": 14,
      "id": "a09aaa38",
      "metadata": {
        "colab": {
          "base_uri": "https://localhost:8080/"
        },
        "id": "a09aaa38",
        "outputId": "a0a25c87-fda8-47a5-ab21-779ba11ccb96"
      },
      "outputs": [
        {
          "output_type": "stream",
          "name": "stdout",
          "text": [
            "<class 'pandas.core.frame.DataFrame'>\n",
            "Int64Index: 1338 entries, 1 to 1338\n",
            "Data columns (total 7 columns):\n",
            " #   Column    Non-Null Count  Dtype\n",
            "---  ------    --------------  -----\n",
            " 0   Age       1338 non-null   int64\n",
            " 1   Gender    1338 non-null   int64\n",
            " 2   BMI       1338 non-null   int64\n",
            " 3   Children  1338 non-null   int64\n",
            " 4   Smoker    1338 non-null   int64\n",
            " 5   Region    1338 non-null   int64\n",
            " 6   Premium   1338 non-null   int64\n",
            "dtypes: int64(7)\n",
            "memory usage: 115.9 KB\n"
          ]
        }
      ],
      "source": [
        "df.info()"
      ]
    },
    {
      "cell_type": "code",
      "execution_count": 15,
      "id": "1318b854",
      "metadata": {
        "scrolled": false,
        "id": "1318b854"
      },
      "outputs": [],
      "source": [
        "scaler= StandardScaler()\n",
        "X=df.drop(columns= ['Premium',\"Region\"], axis=0)\n",
        "X= pd.DataFrame(scaler.fit_transform(X), columns= X.columns)"
      ]
    },
    {
      "cell_type": "code",
      "execution_count": 16,
      "id": "6b0766cc",
      "metadata": {
        "id": "6b0766cc"
      },
      "outputs": [],
      "source": [
        "Y=df['Premium']"
      ]
    },
    {
      "cell_type": "code",
      "execution_count": 17,
      "id": "abe86e48",
      "metadata": {
        "id": "abe86e48"
      },
      "outputs": [],
      "source": [
        "X_train, X_test, y_train, y_test= train_test_split(X,Y,test_size=0.2, random_state=42)"
      ]
    },
    {
      "cell_type": "code",
      "execution_count": 18,
      "id": "6511c776",
      "metadata": {
        "id": "6511c776"
      },
      "outputs": [],
      "source": [
        "from sklearn.linear_model import LinearRegression, Lasso, Ridge\n",
        "from sklearn.ensemble import RandomForestRegressor\n",
        "from sklearn.neighbors import KNeighborsRegressor\n",
        "from sklearn.metrics import mean_squared_error, r2_score,mean_absolute_error"
      ]
    },
    {
      "cell_type": "code",
      "execution_count": 19,
      "id": "b5c1ca93",
      "metadata": {
        "scrolled": true,
        "id": "b5c1ca93"
      },
      "outputs": [],
      "source": [
        "accuracy_matrix=pd.DataFrame(index= [\"Mean Absolute Error\",\n",
        "                        \"Mean Square Error\",\n",
        "                        \"Residual Error(RSS)\",\n",
        "                        \"Root mean Square\",\n",
        "                        \"R2 Score (CoD)\"])\n"
      ]
    },
    {
      "cell_type": "code",
      "execution_count": 20,
      "id": "597b45ea",
      "metadata": {
        "id": "597b45ea"
      },
      "outputs": [],
      "source": [
        "def reg_model(model):\n",
        "    m=model()\n",
        "    m.fit(X_train, y_train)\n",
        "    y_pred=m.predict(X_test)\n",
        "    accuracy_matrix[str(model).split(\".\")[-1][:-2]]=[round(mean_absolute_error(y_test, y_pred),3),\n",
        "                             round(mean_squared_error(y_test, y_pred),3),\n",
        "                             round(np.sum(np.square(y_test- y_pred)),3), \n",
        "                             round(np.sqrt(mean_squared_error(y_test, y_pred)),3),\n",
        "                             round(r2_score(y_test, y_pred),3)]"
      ]
    },
    {
      "cell_type": "code",
      "execution_count": 21,
      "id": "ce8b1463",
      "metadata": {
        "id": "ce8b1463"
      },
      "outputs": [],
      "source": [
        "reg_model(LinearRegression)\n",
        "reg_model(Lasso)\n",
        "reg_model(Ridge)\n",
        "reg_model(RandomForestRegressor)\n",
        "reg_model(KNeighborsRegressor)"
      ]
    },
    {
      "cell_type": "code",
      "execution_count": 22,
      "id": "85eada43",
      "metadata": {
        "scrolled": true,
        "colab": {
          "base_uri": "https://localhost:8080/",
          "height": 206
        },
        "id": "85eada43",
        "outputId": "3a0545a5-f4d8-468f-9987-e1d82a9b5110"
      },
      "outputs": [
        {
          "output_type": "execute_result",
          "data": {
            "text/html": [
              "\n",
              "  <div id=\"df-28e4a94b-0c3c-487d-9433-45b303e93c69\">\n",
              "    <div class=\"colab-df-container\">\n",
              "      <div>\n",
              "<style scoped>\n",
              "    .dataframe tbody tr th:only-of-type {\n",
              "        vertical-align: middle;\n",
              "    }\n",
              "\n",
              "    .dataframe tbody tr th {\n",
              "        vertical-align: top;\n",
              "    }\n",
              "\n",
              "    .dataframe thead th {\n",
              "        text-align: right;\n",
              "    }\n",
              "</style>\n",
              "<table border=\"1\" class=\"dataframe\">\n",
              "  <thead>\n",
              "    <tr style=\"text-align: right;\">\n",
              "      <th></th>\n",
              "      <th>LinearRegression</th>\n",
              "      <th>Lasso</th>\n",
              "      <th>Ridge</th>\n",
              "      <th>RandomForestRegressor</th>\n",
              "      <th>KNeighborsRegressor</th>\n",
              "    </tr>\n",
              "  </thead>\n",
              "  <tbody>\n",
              "    <tr>\n",
              "      <th>Mean Absolute Error</th>\n",
              "      <td>122.778</td>\n",
              "      <td>123.047</td>\n",
              "      <td>122.875</td>\n",
              "      <td>81.973</td>\n",
              "      <td>98.696</td>\n",
              "    </tr>\n",
              "    <tr>\n",
              "      <th>Mean Square Error</th>\n",
              "      <td>30860.228</td>\n",
              "      <td>30903.076</td>\n",
              "      <td>30865.014</td>\n",
              "      <td>25236.449</td>\n",
              "      <td>30034.681</td>\n",
              "    </tr>\n",
              "    <tr>\n",
              "      <th>Residual Error(RSS)</th>\n",
              "      <td>8270541.057</td>\n",
              "      <td>8282024.438</td>\n",
              "      <td>8271823.812</td>\n",
              "      <td>6763368.393</td>\n",
              "      <td>8049294.480</td>\n",
              "    </tr>\n",
              "    <tr>\n",
              "      <th>Root mean Square</th>\n",
              "      <td>175.671</td>\n",
              "      <td>175.793</td>\n",
              "      <td>175.684</td>\n",
              "      <td>158.860</td>\n",
              "      <td>173.305</td>\n",
              "    </tr>\n",
              "    <tr>\n",
              "      <th>R2 Score (CoD)</th>\n",
              "      <td>0.793</td>\n",
              "      <td>0.792</td>\n",
              "      <td>0.793</td>\n",
              "      <td>0.830</td>\n",
              "      <td>0.798</td>\n",
              "    </tr>\n",
              "  </tbody>\n",
              "</table>\n",
              "</div>\n",
              "      <button class=\"colab-df-convert\" onclick=\"convertToInteractive('df-28e4a94b-0c3c-487d-9433-45b303e93c69')\"\n",
              "              title=\"Convert this dataframe to an interactive table.\"\n",
              "              style=\"display:none;\">\n",
              "        \n",
              "  <svg xmlns=\"http://www.w3.org/2000/svg\" height=\"24px\"viewBox=\"0 0 24 24\"\n",
              "       width=\"24px\">\n",
              "    <path d=\"M0 0h24v24H0V0z\" fill=\"none\"/>\n",
              "    <path d=\"M18.56 5.44l.94 2.06.94-2.06 2.06-.94-2.06-.94-.94-2.06-.94 2.06-2.06.94zm-11 1L8.5 8.5l.94-2.06 2.06-.94-2.06-.94L8.5 2.5l-.94 2.06-2.06.94zm10 10l.94 2.06.94-2.06 2.06-.94-2.06-.94-.94-2.06-.94 2.06-2.06.94z\"/><path d=\"M17.41 7.96l-1.37-1.37c-.4-.4-.92-.59-1.43-.59-.52 0-1.04.2-1.43.59L10.3 9.45l-7.72 7.72c-.78.78-.78 2.05 0 2.83L4 21.41c.39.39.9.59 1.41.59.51 0 1.02-.2 1.41-.59l7.78-7.78 2.81-2.81c.8-.78.8-2.07 0-2.86zM5.41 20L4 18.59l7.72-7.72 1.47 1.35L5.41 20z\"/>\n",
              "  </svg>\n",
              "      </button>\n",
              "      \n",
              "  <style>\n",
              "    .colab-df-container {\n",
              "      display:flex;\n",
              "      flex-wrap:wrap;\n",
              "      gap: 12px;\n",
              "    }\n",
              "\n",
              "    .colab-df-convert {\n",
              "      background-color: #E8F0FE;\n",
              "      border: none;\n",
              "      border-radius: 50%;\n",
              "      cursor: pointer;\n",
              "      display: none;\n",
              "      fill: #1967D2;\n",
              "      height: 32px;\n",
              "      padding: 0 0 0 0;\n",
              "      width: 32px;\n",
              "    }\n",
              "\n",
              "    .colab-df-convert:hover {\n",
              "      background-color: #E2EBFA;\n",
              "      box-shadow: 0px 1px 2px rgba(60, 64, 67, 0.3), 0px 1px 3px 1px rgba(60, 64, 67, 0.15);\n",
              "      fill: #174EA6;\n",
              "    }\n",
              "\n",
              "    [theme=dark] .colab-df-convert {\n",
              "      background-color: #3B4455;\n",
              "      fill: #D2E3FC;\n",
              "    }\n",
              "\n",
              "    [theme=dark] .colab-df-convert:hover {\n",
              "      background-color: #434B5C;\n",
              "      box-shadow: 0px 1px 3px 1px rgba(0, 0, 0, 0.15);\n",
              "      filter: drop-shadow(0px 1px 2px rgba(0, 0, 0, 0.3));\n",
              "      fill: #FFFFFF;\n",
              "    }\n",
              "  </style>\n",
              "\n",
              "      <script>\n",
              "        const buttonEl =\n",
              "          document.querySelector('#df-28e4a94b-0c3c-487d-9433-45b303e93c69 button.colab-df-convert');\n",
              "        buttonEl.style.display =\n",
              "          google.colab.kernel.accessAllowed ? 'block' : 'none';\n",
              "\n",
              "        async function convertToInteractive(key) {\n",
              "          const element = document.querySelector('#df-28e4a94b-0c3c-487d-9433-45b303e93c69');\n",
              "          const dataTable =\n",
              "            await google.colab.kernel.invokeFunction('convertToInteractive',\n",
              "                                                     [key], {});\n",
              "          if (!dataTable) return;\n",
              "\n",
              "          const docLinkHtml = 'Like what you see? Visit the ' +\n",
              "            '<a target=\"_blank\" href=https://colab.research.google.com/notebooks/data_table.ipynb>data table notebook</a>'\n",
              "            + ' to learn more about interactive tables.';\n",
              "          element.innerHTML = '';\n",
              "          dataTable['output_type'] = 'display_data';\n",
              "          await google.colab.output.renderOutput(dataTable, element);\n",
              "          const docLink = document.createElement('div');\n",
              "          docLink.innerHTML = docLinkHtml;\n",
              "          element.appendChild(docLink);\n",
              "        }\n",
              "      </script>\n",
              "    </div>\n",
              "  </div>\n",
              "  "
            ],
            "text/plain": [
              "                     LinearRegression  ...  KNeighborsRegressor\n",
              "Mean Absolute Error           122.778  ...               98.696\n",
              "Mean Square Error           30860.228  ...            30034.681\n",
              "Residual Error(RSS)       8270541.057  ...          8049294.480\n",
              "Root mean Square              175.671  ...              173.305\n",
              "R2 Score (CoD)                  0.793  ...                0.798\n",
              "\n",
              "[5 rows x 5 columns]"
            ]
          },
          "metadata": {},
          "execution_count": 22
        }
      ],
      "source": [
        "accuracy_matrix"
      ]
    },
    {
      "cell_type": "markdown",
      "id": "20a53461",
      "metadata": {
        "id": "20a53461"
      },
      "source": [
        "Random forest regressor have the highest R square value. Plotting visualization grraph"
      ]
    },
    {
      "cell_type": "code",
      "execution_count": 23,
      "id": "27ed669a",
      "metadata": {
        "colab": {
          "base_uri": "https://localhost:8080/",
          "height": 458
        },
        "id": "27ed669a",
        "outputId": "03d274e5-3782-4f7f-eb2f-aada79744aa6"
      },
      "outputs": [
        {
          "output_type": "display_data",
          "data": {
            "image/png": "[encoded data removed]",
            "text/plain": [
              "<Figure size 1296x504 with 1 Axes>"
            ]
          },
          "metadata": {
            "needs_background": "light"
          }
        }
      ],
      "source": [
        "model_random= RandomForestRegressor()\n",
        "model_random.fit(X_train, y_train)\n",
        "y_pred_rf=model_random.predict(X_test)\n",
        "\n",
        "plt.figure(figsize=(18,7))\n",
        "plt.subplot(1,2,1)\n",
        "ax1=sns.distplot(y_test, hist=False, color='r', label=\"Actual\")\n",
        "sns.distplot(y_pred_rf, hist=False, color='g', ax=ax1, label=\"Predicted\")\n",
        "plt.legend(labels=[\"Actual\",\"Predicted\"])\n",
        "plt.title(\"Random Forest\")\n",
        "plt.show()"
      ]
    },
    {
      "cell_type": "markdown",
      "id": "083d0a0f",
      "metadata": {
        "id": "083d0a0f"
      },
      "source": [
        "### Testing"
      ]
    },
    {
      "cell_type": "code",
      "execution_count": 24,
      "id": "beb1fbf9",
      "metadata": {
        "colab": {
          "base_uri": "https://localhost:8080/"
        },
        "id": "beb1fbf9",
        "outputId": "2446a51a-9134-461e-875e-a2f2f73e3ad1"
      },
      "outputs": [
        {
          "output_type": "stream",
          "name": "stdout",
          "text": [
            "Enter Age: 20\n",
            "Enter Gender: F\n",
            "Enter BMI: 24\n",
            "Enter number of childern  you have0\n",
            "Are you a smoker: (Y/N): N\n",
            "Expected Premium price is :  945.34\n"
          ]
        }
      ],
      "source": [
        "enter= [int(input(\"Enter Age: \")), \n",
        "        input(\"Enter Gender: \"), \n",
        "        float(input(\"Enter BMI: \")), \n",
        "        int(input(\"Enter number of childern  you have\")),\n",
        "        input(\"Are you a smoker: (Y/N): \")]\n",
        "\n",
        "if enter[1]==\"F\":\n",
        "    enter[1]=0\n",
        "elif enter[1]==\"M\":\n",
        "    enter[1]==1\n",
        "    \n",
        "if enter[-1]==\"N\":\n",
        "    enter[-1]=0\n",
        "else:\n",
        "    enter[-1]=1\n",
        "\n",
        "\n",
        "print(\"Expected Premium price is : \", model_random.predict([enter])[0])"
      ]
    }
  ],
  "metadata": {
    "kernelspec": {
      "display_name": "Python 3 (ipykernel)",
      "language": "python",
      "name": "python3"
    },
    "language_info": {
      "codemirror_mode": {
        "name": "ipython",
        "version": 3
      },
      "file_extension": ".py",
      "mimetype": "text/x-python",
      "name": "python",
      "nbconvert_exporter": "python",
      "pygments_lexer": "ipython3",
      "version": "3.9.7"
    },
    "colab": {
      "name": "Insurance premium.ipynb",
      "provenance": [],
      "collapsed_sections": [],
      "include_colab_link": true
    }
  },
  "nbformat": 4,
  "nbformat_minor": 5
}